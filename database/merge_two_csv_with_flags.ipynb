{
 "cells": [
  {
   "cell_type": "code",
   "id": "initial_id",
   "metadata": {
    "collapsed": true,
    "ExecuteTime": {
     "end_time": "2024-05-02T17:24:28.288161Z",
     "start_time": "2024-05-02T17:24:28.188296Z"
    }
   },
   "source": [
    "import os\n",
    "import pandas as pd\n",
    "\n",
    "df1p = os.path.join('..', 'data', 'flags', 'flags_result.csv')\n",
    "df2p = os.path.join('..', 'data', 'flags', 'flags_KM.csv')\n",
    "df1 = pd.read_csv(df1p)\n",
    "df2 = pd.read_csv(df2p)"
   ],
   "outputs": [],
   "execution_count": 13
  },
  {
   "metadata": {
    "ExecuteTime": {
     "end_time": "2024-05-02T17:25:16.789695Z",
     "start_time": "2024-05-02T17:25:16.764551Z"
    }
   },
   "cell_type": "code",
   "source": [
    "print(\"Przed konwersją:\")\n",
    "print(df2['team'].apply(lambda x: type(x)).value_counts())\n",
    "print(df2['team'][:20])"
   ],
   "id": "b5298d95129864d",
   "outputs": [
    {
     "name": "stdout",
     "output_type": "stream",
     "text": [
      "Przed konwersją:\n",
      "team\n",
      "<class 'str'>    43985\n",
      "Name: count, dtype: int64\n",
      "0              Samsunspor\n",
      "1             Lech Poznan\n",
      "2             Lech Poznan\n",
      "3             Lech Poznan\n",
      "4             Lech Poznan\n",
      "5     DAC Dunajska Streda\n",
      "6     DAC Dunajska Streda\n",
      "7     DAC Dunajska Streda\n",
      "8                 UNKNOWN\n",
      "9                 UNKNOWN\n",
      "10                UNKNOWN\n",
      "11                UNKNOWN\n",
      "12            Lech Poznan\n",
      "13            Lech Poznan\n",
      "14            Lech Poznan\n",
      "15      SPAL; Lech Poznan\n",
      "16                   SPAL\n",
      "17       Frosinone Calcio\n",
      "18              SPAL 2013\n",
      "19        Cagliari Calcio\n",
      "Name: team, dtype: object\n"
     ]
    }
   ],
   "execution_count": 18
  },
  {
   "metadata": {
    "ExecuteTime": {
     "end_time": "2024-05-02T17:26:03.676241Z",
     "start_time": "2024-05-02T17:26:03.661877Z"
    }
   },
   "cell_type": "code",
   "source": "df2['team'] = df2['team'].astype(str)",
   "id": "d3323daf3500ecb3",
   "outputs": [],
   "execution_count": 19
  },
  {
   "metadata": {
    "ExecuteTime": {
     "end_time": "2024-05-02T17:26:04.375308Z",
     "start_time": "2024-05-02T17:26:04.351473Z"
    }
   },
   "cell_type": "code",
   "source": [
    "print(\"Po konwersji:\")\n",
    "print(df2['team'].apply(lambda x: type(x)).value_counts())\n",
    "print(df2['team'][:20])"
   ],
   "id": "62673bd3cce6ad01",
   "outputs": [
    {
     "name": "stdout",
     "output_type": "stream",
     "text": [
      "Po konwersji:\n",
      "team\n",
      "<class 'str'>    43985\n",
      "Name: count, dtype: int64\n",
      "0              Samsunspor\n",
      "1             Lech Poznan\n",
      "2             Lech Poznan\n",
      "3             Lech Poznan\n",
      "4             Lech Poznan\n",
      "5     DAC Dunajska Streda\n",
      "6     DAC Dunajska Streda\n",
      "7     DAC Dunajska Streda\n",
      "8                 UNKNOWN\n",
      "9                 UNKNOWN\n",
      "10                UNKNOWN\n",
      "11                UNKNOWN\n",
      "12            Lech Poznan\n",
      "13            Lech Poznan\n",
      "14            Lech Poznan\n",
      "15      SPAL; Lech Poznan\n",
      "16                   SPAL\n",
      "17       Frosinone Calcio\n",
      "18              SPAL 2013\n",
      "19        Cagliari Calcio\n",
      "Name: team, dtype: object\n"
     ]
    }
   ],
   "execution_count": 20
  },
  {
   "metadata": {
    "ExecuteTime": {
     "end_time": "2024-05-02T17:26:17.866962Z",
     "start_time": "2024-05-02T17:26:17.783863Z"
    }
   },
   "cell_type": "code",
   "source": [
    "df2['team'] = df2['team'].str.split(';')\n",
    "df2_expanded = df2.explode('team')\n",
    "df2_expanded['team'] = df2_expanded['team'].str.strip()"
   ],
   "id": "4d5fb0d909dc5a77",
   "outputs": [],
   "execution_count": 21
  },
  {
   "metadata": {
    "ExecuteTime": {
     "end_time": "2024-05-02T17:26:18.970949Z",
     "start_time": "2024-05-02T17:26:18.890736Z"
    }
   },
   "cell_type": "code",
   "source": "final_df = pd.merge(df1, df2_expanded, on=['id', 'season', 'team'], how='outer')",
   "id": "792a03156b3d865a",
   "outputs": [],
   "execution_count": 22
  },
  {
   "metadata": {
    "ExecuteTime": {
     "end_time": "2024-05-02T17:26:19.669276Z",
     "start_time": "2024-05-02T17:26:19.610938Z"
    }
   },
   "cell_type": "code",
   "source": "final_df.fillna('', inplace=True)",
   "id": "10c0cb546ed7bc48",
   "outputs": [],
   "execution_count": 23
  },
  {
   "metadata": {
    "ExecuteTime": {
     "end_time": "2024-05-02T17:26:20.570911Z",
     "start_time": "2024-05-02T17:26:20.334947Z"
    }
   },
   "cell_type": "code",
   "source": "final_df.to_csv('player_flags_FINAL.csv', index=False)",
   "id": "fb62a2c3aca798ea",
   "outputs": [],
   "execution_count": 24
  },
  {
   "metadata": {},
   "cell_type": "code",
   "outputs": [],
   "execution_count": null,
   "source": "",
   "id": "d0fab8c99c4f1e0"
  }
 ],
 "metadata": {
  "kernelspec": {
   "display_name": "Python 3",
   "language": "python",
   "name": "python3"
  },
  "language_info": {
   "codemirror_mode": {
    "name": "ipython",
    "version": 2
   },
   "file_extension": ".py",
   "mimetype": "text/x-python",
   "name": "python",
   "nbconvert_exporter": "python",
   "pygments_lexer": "ipython2",
   "version": "2.7.6"
  }
 },
 "nbformat": 4,
 "nbformat_minor": 5
}
