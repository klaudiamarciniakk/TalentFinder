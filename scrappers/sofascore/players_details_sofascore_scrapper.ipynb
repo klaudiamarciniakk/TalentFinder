{
 "cells": [
  {
   "cell_type": "code",
   "execution_count": 23,
   "id": "initial_id",
   "metadata": {
    "collapsed": true,
    "ExecuteTime": {
     "end_time": "2023-12-04T18:22:23.705826700Z",
     "start_time": "2023-12-04T18:22:23.692317100Z"
    }
   },
   "outputs": [],
   "source": [
    "import csv\n",
    "import requests\n",
    "from unidecode import unidecode \n",
    "import os"
   ]
  },
  {
   "cell_type": "code",
   "execution_count": 24,
   "outputs": [],
   "source": [
    "headers = {\n",
    "    'authority': 'api.sofascore.com',\n",
    "    'accept': '*/*',\n",
    "    'accept-language': 'pl-PL,pl;q=0.9,en-US;q=0.8,en;q=0.7',\n",
    "    'cache-control': 'max-age=0',\n",
    "    'if-none-match': 'W/\"7dd2d62cd7\"',\n",
    "    'origin': 'https://www.sofascore.com',\n",
    "    'referer': 'https://www.sofascore.com/',\n",
    "    'sec-ch-ua': '\"Chromium\";v=\"118\", \"Opera GX\";v=\"104\", \"Not=A?Brand\";v=\"99\"',\n",
    "    'sec-ch-ua-mobile': '?0',\n",
    "    'sec-ch-ua-platform': '\"Windows\"',\n",
    "    'sec-fetch-dest': 'empty',\n",
    "    'sec-fetch-mode': 'cors',\n",
    "    'sec-fetch-site': 'same-site',\n",
    "    'user-agent': 'Mozilla/5.0 (Windows NT 10.0; Win64; x64) AppleWebKit/537.36 (KHTML, like Gecko) Chrome/118.0.0.0 Safari/537.36 OPR/104.0.0.0',\n",
    "\n",
    "}\n",
    "headers['If-Modified-Since'] = 'Sun, 3 Dec 2023 00:00:00 GMT'"
   ],
   "metadata": {
    "collapsed": false,
    "ExecuteTime": {
     "end_time": "2023-12-04T18:22:24.207539200Z",
     "start_time": "2023-12-04T18:22:24.192182700Z"
    }
   },
   "id": "9b6b620c2bedbb71"
  },
  {
   "cell_type": "code",
   "execution_count": 25,
   "outputs": [],
   "source": [
    "players_details_csv_file_path = os.path.join('..', '..', 'data', 'sofascore', 'players_details_sofascore.csv')\n",
    "players_ids_src = os.path.join('..', '..', 'data', 'players', 'players_ids.csv')\n",
    "selected_keys = [\"id\", \"slug\", \"team\", \"height\", \"preferredFoot\", \"marketValue\"]"
   ],
   "metadata": {
    "collapsed": false,
    "ExecuteTime": {
     "end_time": "2023-12-04T18:22:24.842584500Z",
     "start_time": "2023-12-04T18:22:24.838238400Z"
    }
   },
   "id": "d438a674f945b470"
  },
  {
   "cell_type": "code",
   "execution_count": 26,
   "outputs": [],
   "source": [
    "players_list = []\n",
    "with open(players_ids_src, \"r\") as csv_file:\n",
    "    csv_reader = csv.DictReader(csv_file)\n",
    "    for row in csv_reader:\n",
    "        slug = row['slug']\n",
    "        id_sofascore = row['id_sofascore']\n",
    "        player_id = {'slug': slug,'id_sofascore': id_sofascore}\n",
    "        players_list.append(player_id)"
   ],
   "metadata": {
    "collapsed": false,
    "ExecuteTime": {
     "end_time": "2023-12-04T18:22:25.746317800Z",
     "start_time": "2023-12-04T18:22:25.739722600Z"
    }
   },
   "id": "955d169857a403c5"
  },
  {
   "cell_type": "code",
   "execution_count": 27,
   "outputs": [
    {
     "name": "stdout",
     "output_type": "stream",
     "text": [
      "Dane zostały zapisane do pliku CSV: ..\\..\\data\\sofascore\\players_details_sofascore.csv\n"
     ]
    }
   ],
   "source": [
    "with open(players_details_csv_file_path, \"w\", newline=\"\") as csv_file:\n",
    "    csv_writer = csv.DictWriter(csv_file, fieldnames=selected_keys)\n",
    "    csv_writer.writeheader()\n",
    "\n",
    "    # Zapisywanie danych do pliku CSV\n",
    "    for player in players_list:\n",
    "        response = requests.get(f'https://api.sofascore.com/api/v1/player/{player[\"id_sofascore\"]}', headers=headers)\n",
    "        player_response = response.json()\n",
    "        player_data = player_response.get(\"player\", {})\n",
    "        if player[\"slug\"] == player_data.get('slug', \"\"):\n",
    "            marketValue = [str(player_data.get(\"proposedMarketValueRaw\", {}).get(\"value\", \"\")), player_data.get(\"proposedMarketValueRaw\", {}).get(\"currency\", \"\")]\n",
    "            selected_data = {\n",
    "                \"id\": player_data.get(\"id\", \"\"),\n",
    "                \"slug\": unidecode(player_data.get(\"slug\", \"\")),\n",
    "                \"team\": unidecode(player_data.get(\"team\", {}).get(\"slug\",\"\")),\n",
    "                \"height\": player_data.get(\"height\", \"\"),\n",
    "                \"preferredFoot\": player_data.get(\"preferredFoot\", \"\"),\n",
    "                \"marketValue\": \" \".join(marketValue)\n",
    "        }\n",
    "        csv_writer.writerow(selected_data)\n",
    "\n",
    "print(f\"Dane zostały zapisane do pliku CSV: {players_details_csv_file_path}\")"
   ],
   "metadata": {
    "collapsed": false,
    "ExecuteTime": {
     "end_time": "2023-12-04T18:23:09.899573600Z",
     "start_time": "2023-12-04T18:22:27.010136900Z"
    }
   },
   "id": "d9b0f5eae58f871"
  },
  {
   "cell_type": "code",
   "execution_count": null,
   "outputs": [],
   "source": [],
   "metadata": {
    "collapsed": false
   },
   "id": "ba87c012a8307352"
  }
 ],
 "metadata": {
  "kernelspec": {
   "display_name": "Python 3",
   "language": "python",
   "name": "python3"
  },
  "language_info": {
   "codemirror_mode": {
    "name": "ipython",
    "version": 2
   },
   "file_extension": ".py",
   "mimetype": "text/x-python",
   "name": "python",
   "nbconvert_exporter": "python",
   "pygments_lexer": "ipython2",
   "version": "2.7.6"
  }
 },
 "nbformat": 4,
 "nbformat_minor": 5
}
