{
 "cells": [
  {
   "cell_type": "code",
   "execution_count": 1,
   "id": "initial_id",
   "metadata": {
    "collapsed": true,
    "ExecuteTime": {
     "end_time": "2023-12-04T20:43:26.439408700Z",
     "start_time": "2023-12-04T20:43:26.369946600Z"
    }
   },
   "outputs": [],
   "source": [
    "import csv\n",
    "import requests\n",
    "from unidecode import unidecode \n",
    "import os"
   ]
  },
  {
   "cell_type": "code",
   "execution_count": 2,
   "outputs": [],
   "source": [
    "headers = {\n",
    "    'authority': 'api.sofascore.com',\n",
    "    'accept': '*/*',\n",
    "    'accept-language': 'pl-PL,pl;q=0.9,en-US;q=0.8,en;q=0.7',\n",
    "    'cache-control': 'max-age=0',\n",
    "    'if-none-match': 'W/\"7dd2d62cd7\"',\n",
    "    'origin': 'https://www.sofascore.com',\n",
    "    'referer': 'https://www.sofascore.com/',\n",
    "    'sec-ch-ua': '\"Chromium\";v=\"118\", \"Opera GX\";v=\"104\", \"Not=A?Brand\";v=\"99\"',\n",
    "    'sec-ch-ua-mobile': '?0',\n",
    "    'sec-ch-ua-platform': '\"Windows\"',\n",
    "    'sec-fetch-dest': 'empty',\n",
    "    'sec-fetch-mode': 'cors',\n",
    "    'sec-fetch-site': 'same-site',\n",
    "    'user-agent': 'Mozilla/5.0 (Windows NT 10.0; Win64; x64) AppleWebKit/537.36 (KHTML, like Gecko) Chrome/118.0.0.0 Safari/537.36 OPR/104.0.0.0',\n",
    "\n",
    "}\n",
    "headers['If-Modified-Since'] = 'Sun, 3 Dec 2023 00:00:00 GMT'"
   ],
   "metadata": {
    "collapsed": false,
    "ExecuteTime": {
     "end_time": "2023-12-04T20:43:27.132514400Z",
     "start_time": "2023-12-04T20:43:27.111968700Z"
    }
   },
   "id": "9b6b620c2bedbb71"
  },
  {
   "cell_type": "code",
   "execution_count": 3,
   "outputs": [],
   "source": [
    "players_details_csv_file_path = os.path.join('..', '..', 'data', 'sofascore', 'players_details_sofascore.csv')\n",
    "players_ids_src = os.path.join('..', '..', 'data', 'players', 'players_ids.csv')\n",
    "selected_keys = [\"id\", \"slug\", \"team\", \"height\", \"preferredFoot\", \"marketValue\"]"
   ],
   "metadata": {
    "collapsed": false,
    "ExecuteTime": {
     "end_time": "2023-12-04T20:43:27.940846200Z",
     "start_time": "2023-12-04T20:43:27.928325300Z"
    }
   },
   "id": "d438a674f945b470"
  },
  {
   "cell_type": "code",
   "execution_count": 14,
   "outputs": [
    {
     "data": {
      "text/plain": "[{'slug': 'kacper-chorazka', 'id_sofascore': '887692'},\n {'slug': 'kacper-polak', 'id_sofascore': '831688'},\n {'slug': 'mateusz-burylo', 'id_sofascore': ''},\n {'slug': 'maciej-pawlik', 'id_sofascore': ''},\n {'slug': 'michal-boniecki', 'id_sofascore': ''},\n {'slug': 'bartosz-zak', 'id_sofascore': ''},\n {'slug': 'piotr-martuszewski', 'id_sofascore': ''},\n {'slug': 'milosz-stawowy', 'id_sofascore': ''},\n {'slug': 'daniel-peterka', 'id_sofascore': ''},\n {'slug': 'piotr-swiatko', 'id_sofascore': '927724'},\n {'slug': 'damian-korczyk', 'id_sofascore': '941605'},\n {'slug': 'jakub-ptak', 'id_sofascore': '861319'},\n {'slug': 'patryk-plewka', 'id_sofascore': '941616'},\n {'slug': 'przemyslaw-porebski', 'id_sofascore': '861318'},\n {'slug': 'grzegorz-kociolek', 'id_sofascore': ''},\n {'slug': 'maciej-rogoz', 'id_sofascore': ''},\n {'slug': 'patryk-skrzypniak', 'id_sofascore': ''},\n {'slug': 'jakub-tracz', 'id_sofascore': ''},\n {'slug': 'przemyslaw-zawadzki', 'id_sofascore': '956066'},\n {'slug': 'kacper-laskos', 'id_sofascore': '871374'},\n {'slug': 'marcin-jaworski', 'id_sofascore': ''},\n {'slug': 'norbert-stachura', 'id_sofascore': ''},\n {'slug': 'karol-rak', 'id_sofascore': ''},\n {'slug': 'blazej-skorski', 'id_sofascore': '891610'},\n {'slug': 'bartlomiej-purcha', 'id_sofascore': '861320'},\n {'slug': 'mateusz-wyjadlowski', 'id_sofascore': '1022397'},\n {'slug': 'wojciech-slomka', 'id_sofascore': '881950'},\n {'slug': 'michal-banik', 'id_sofascore': ''},\n {'slug': 'filip-kowalski', 'id_sofascore': ''},\n {'slug': 'ernest-swietek', 'id_sofascore': ''},\n {'slug': 'krzysztof-wydra', 'id_sofascore': ''},\n {'slug': 'kamil-radlowski', 'id_sofascore': ''},\n {'slug': 'adrian-grzybek', 'id_sofascore': '941606'},\n {'slug': 'bartosz-mrozek', 'id_sofascore': '886909'},\n {'slug': 'lukasz-benedykcinski', 'id_sofascore': '1148088'},\n {'slug': 'maciej-dabrowski', 'id_sofascore': '140650'},\n {'slug': 'wojciech-olesinski', 'id_sofascore': ''},\n {'slug': 'bartosz-przybysz', 'id_sofascore': '926006'},\n {'slug': 'kacper-wojakiewicz', 'id_sofascore': ''},\n {'slug': 'oliwier-szybiak', 'id_sofascore': ''},\n {'slug': 'jan-andrzejewski', 'id_sofascore': '971415'},\n {'slug': 'oskar-nowak', 'id_sofascore': '1005897'},\n {'slug': 'marcin-mackowiak', 'id_sofascore': ''},\n {'slug': 'filip-nawrocki', 'id_sofascore': '1021797'},\n {'slug': 'mateusz-skrzypczak', 'id_sofascore': '981527'},\n {'slug': 'serafin-szota', 'id_sofascore': '887580'},\n {'slug': 'wiktor-plesnierowicz', 'id_sofascore': '940422'},\n {'slug': 'kacper-andrzejewski', 'id_sofascore': '1021798'},\n {'slug': 'marcin-grabowski', 'id_sofascore': '941360'},\n {'slug': 'aleksander-theus', 'id_sofascore': '1009463'},\n {'slug': 'michal-zimmer', 'id_sofascore': '1021807'},\n {'slug': 'szymon-zalewski', 'id_sofascore': '1051381'},\n {'slug': 'damian-sierant', 'id_sofascore': '1022384'},\n {'slug': 'jakub-gwit', 'id_sofascore': ''},\n {'slug': 'kacper-wojdak', 'id_sofascore': '1155684'},\n {'slug': 'kacper-friska', 'id_sofascore': '1409405'},\n {'slug': 'lukasz-norkowski', 'id_sofascore': '991148'},\n {'slug': 'aleksy-kizielewicz', 'id_sofascore': ''},\n {'slug': 'jakub-bialczyk', 'id_sofascore': '1021815'},\n {'slug': 'bartosz-bartkowiak', 'id_sofascore': '1017544'},\n {'slug': 'jakub-moder', 'id_sofascore': '886242'},\n {'slug': 'maciej-spychala', 'id_sofascore': '943368'},\n {'slug': 'eryk-kryg', 'id_sofascore': '1145932'},\n {'slug': 'szymon-piekarski', 'id_sofascore': '943501'},\n {'slug': 'karol-smajdor', 'id_sofascore': '974613'},\n {'slug': 'jakub-borowiak', 'id_sofascore': ''},\n {'slug': 'tymoteusz-klups', 'id_sofascore': '915510'},\n {'slug': 'jakub-draszczyk', 'id_sofascore': ''},\n {'slug': 'tymoteusz-puchacz', 'id_sofascore': '867493'},\n {'slug': 'aleksander-drobot', 'id_sofascore': '956036'},\n {'slug': 'dawid-maciejczyk', 'id_sofascore': ''},\n {'slug': 'pawel-tupaj', 'id_sofascore': '1021824'},\n {'slug': 'marek-mroz', 'id_sofascore': '942480'},\n {'slug': 'sebastian-jarosz', 'id_sofascore': '1031225'},\n {'slug': 'michal-skoras', 'id_sofascore': '942479'},\n {'slug': 'jakub-karbownik', 'id_sofascore': '1017545'},\n {'slug': 'kacper-chodyna', 'id_sofascore': '942334'},\n {'slug': 'dawid-kurminowski', 'id_sofascore': '922074'},\n {'slug': 'pawel-tomczyk', 'id_sofascore': '864010'},\n {'slug': 'hubert-sobol', 'id_sofascore': '940421'},\n {'slug': 'kasper-strozyk', 'id_sofascore': ''},\n {'slug': 'mateusz-szukala', 'id_sofascore': '938233'},\n {'slug': 'tomasz-lewandowski', 'id_sofascore': '218146'},\n {'slug': 'marcin-maslowski', 'id_sofascore': ''},\n {'slug': 'mateusz-michalski', 'id_sofascore': '252901'},\n {'slug': 'blazej-mandrysz', 'id_sofascore': ''},\n {'slug': 'daniel-bielica', 'id_sofascore': '939460'},\n {'slug': 'dominik-nowicki', 'id_sofascore': ''},\n {'slug': 'jakub-szymanski', 'id_sofascore': '1133550'},\n {'slug': 'mateusz-witek', 'id_sofascore': ''},\n {'slug': 'dawid-ceremon', 'id_sofascore': ''},\n {'slug': 'bartlomiej-gajda', 'id_sofascore': '845001'},\n {'slug': 'szymon-rutkowski', 'id_sofascore': ''},\n {'slug': 'daniel-wajsak', 'id_sofascore': '845124'},\n {'slug': 'przemyslaw-wisniewski', 'id_sofascore': '931266'},\n {'slug': 'tomasz-polak', 'id_sofascore': ''},\n {'slug': 'robert-pieczur', 'id_sofascore': '886752'},\n {'slug': 'aleksander-knabel', 'id_sofascore': ''},\n {'slug': 'kamil-surowiec', 'id_sofascore': '940542'},\n {'slug': 'milosz-cwielong', 'id_sofascore': ''},\n {'slug': 'jakub-dylag', 'id_sofascore': ''},\n {'slug': 'mateusz-kopia', 'id_sofascore': ''},\n {'slug': 'karol-jaksik', 'id_sofascore': '940661'},\n {'slug': 'damian-jaworski', 'id_sofascore': ''},\n {'slug': 'mateusz-kulanek', 'id_sofascore': ''},\n {'slug': 'michal-rymer', 'id_sofascore': ''},\n {'slug': 'tomasz-kedziora', 'id_sofascore': '138595'},\n {'slug': 'kacper-siejka', 'id_sofascore': ''},\n {'slug': 'szymon-weber', 'id_sofascore': ''},\n {'slug': 'pawel-wojciechowski', 'id_sofascore': '43415'},\n {'slug': 'bartosz-scislak', 'id_sofascore': ''},\n {'slug': 'kamil-popek', 'id_sofascore': ''},\n {'slug': 'adam-stryjakiewicz', 'id_sofascore': ''},\n {'slug': 'dawid-skutnik', 'id_sofascore': ''},\n {'slug': 'mateusz-pietryga', 'id_sofascore': ''},\n {'slug': 'tymoteusz-wojdanowski', 'id_sofascore': ''},\n {'slug': 'daniel-scislak', 'id_sofascore': '987357'},\n {'slug': 'dariusz-pawlowski', 'id_sofascore': '845123'},\n {'slug': 'mateusz-cybulski', 'id_sofascore': ''},\n {'slug': 'daniel-liszka', 'id_sofascore': '930211'},\n {'slug': 'filip-zagiel', 'id_sofascore': '891705'},\n {'slug': 'bartosz-bartczuk', 'id_sofascore': '914272'},\n {'slug': 'jan-borek', 'id_sofascore': ''},\n {'slug': 'lukasz-budny', 'id_sofascore': ''},\n {'slug': 'krzysztof-kiklaisz', 'id_sofascore': '798668'},\n {'slug': 'patryk-joachim', 'id_sofascore': ''},\n {'slug': 'konrad-hasior', 'id_sofascore': '921242'},\n {'slug': 'szymon-krocz', 'id_sofascore': '1126643'},\n {'slug': 'piotr-pruszynski', 'id_sofascore': ''},\n {'slug': 'kacper-krzepisz', 'id_sofascore': '940856'},\n {'slug': 'szymon-wieckowicz', 'id_sofascore': '886903'},\n {'slug': 'mateusz-czaja', 'id_sofascore': ''},\n {'slug': 'bartosz-olszewski', 'id_sofascore': '907507'},\n {'slug': 'krzysztof-bednarski', 'id_sofascore': ''},\n {'slug': 'piotr-skierka', 'id_sofascore': ''},\n {'slug': 'maciej-manteufel', 'id_sofascore': ''},\n {'slug': 'oskar-sikorski', 'id_sofascore': '956037'},\n {'slug': 'fabian-lengiewicz', 'id_sofascore': ''},\n {'slug': 'damian-lisiecki', 'id_sofascore': '1021420'},\n {'slug': 'daniel-chmielnicki', 'id_sofascore': '1033050'},\n {'slug': 'brajan-wieczorek', 'id_sofascore': ''},\n {'slug': 'dawid-blok', 'id_sofascore': ''},\n {'slug': 'maciej-kozakowski', 'id_sofascore': '956628'},\n {'slug': 'damian-gebis', 'id_sofascore': '1148057'},\n {'slug': 'krzysztof-krakowiak', 'id_sofascore': '956630'},\n {'slug': 'wiktor-babinski', 'id_sofascore': ''},\n {'slug': 'szymon-nowicki', 'id_sofascore': '893322'},\n {'slug': 'piotr-grabowski', 'id_sofascore': ''},\n {'slug': 'dawid-szalecki', 'id_sofascore': '1604014'},\n {'slug': 'maciej-kaszorek', 'id_sofascore': ''},\n {'slug': 'jonatan-pasieka', 'id_sofascore': ''},\n {'slug': 'karol-siejak', 'id_sofascore': ''},\n {'slug': 'mateusz-olszewski', 'id_sofascore': '1585066'},\n {'slug': 'kacper-zengerski', 'id_sofascore': ''},\n {'slug': 'oskar-bugajewski', 'id_sofascore': ''},\n {'slug': 'bartosz-nowicki', 'id_sofascore': '971410'},\n {'slug': 'adrian-polanski', 'id_sofascore': '1524880'},\n {'slug': 'dominik-gniadecki', 'id_sofascore': ''},\n {'slug': 'mikolaj-nowakowski', 'id_sofascore': ''},\n {'slug': 'mateusz-klecha', 'id_sofascore': ''},\n {'slug': 'dorian-affeld', 'id_sofascore': '841405'},\n {'slug': 'jakub-wawszczyk', 'id_sofascore': '801304'},\n {'slug': 'oskar-ryk', 'id_sofascore': '935287'},\n {'slug': 'mateusz-mlynski', 'id_sofascore': '945392'},\n {'slug': 'wojciech-kafka', 'id_sofascore': '921457'},\n {'slug': 'mateusz-wesierski', 'id_sofascore': '844893'},\n {'slug': 'norbert-holtyn', 'id_sofascore': '1022392'},\n {'slug': 'mikolaj-gabor', 'id_sofascore': '921448'},\n {'slug': 'andrzej-lyszyk', 'id_sofascore': '1509277'},\n {'slug': 'kamil-wosk', 'id_sofascore': '1498846'},\n {'slug': 'jakub-klosowski', 'id_sofascore': ''},\n {'slug': 'krystian-ziarkowski', 'id_sofascore': ''},\n {'slug': 'jan-los', 'id_sofascore': '914273'},\n {'slug': 'dawid-sarnowski', 'id_sofascore': ''},\n {'slug': 'leonid-otczenaszenko', 'id_sofascore': '833813'},\n {'slug': 'jakub-borusinski', 'id_sofascore': ''},\n {'slug': 'damian-krazek', 'id_sofascore': '926185'},\n {'slug': 'gabriel-lodej', 'id_sofascore': ''},\n {'slug': 'norbert-wolczyk', 'id_sofascore': ''},\n {'slug': 'pawel-sokol', 'id_sofascore': '862948'},\n {'slug': 'patryk-kozak', 'id_sofascore': ''},\n {'slug': 'jakub-osobinski', 'id_sofascore': '941971'},\n {'slug': 'maciej-zawierucha', 'id_sofascore': '826556'},\n {'slug': 'karol-boszczyk', 'id_sofascore': ''},\n {'slug': 'bartosz-guz', 'id_sofascore': '1138737'},\n {'slug': 'kamil-koszela', 'id_sofascore': ''},\n {'slug': 'dawid-kowalczyk', 'id_sofascore': ''},\n {'slug': 'krystian-wojtal', 'id_sofascore': ''},\n {'slug': 'daniel-wolowiec', 'id_sofascore': ''},\n {'slug': 'piotr-pierzchala', 'id_sofascore': '936290'},\n {'slug': 'szymon-czerwiak', 'id_sofascore': '962485'},\n {'slug': 'dawid-swiderski', 'id_sofascore': ''},\n {'slug': 'szymon-klepacki', 'id_sofascore': '921978'},\n {'slug': 'bartosz-kunat', 'id_sofascore': '971448'},\n {'slug': 'oskar-gwozdz', 'id_sofascore': '1562217'},\n {'slug': 'adrian-olekszyk', 'id_sofascore': ''},\n {'slug': 'norbert-sinkiewicz', 'id_sofascore': '1138701'},\n {'slug': 'kacper-gromulski', 'id_sofascore': ''},\n {'slug': 'michal-rybus', 'id_sofascore': ''},\n {'slug': 'hubert-wojsa', 'id_sofascore': ''},\n {'slug': 'filip-lech', 'id_sofascore': '1519177'},\n {'slug': 'ernest-jopkiewicz', 'id_sofascore': ''},\n {'slug': 'wiktor-dlugosz', 'id_sofascore': '926184'},\n {'slug': 'dawid-szalas', 'id_sofascore': ''},\n {'slug': 'michal-mazurek', 'id_sofascore': '1484200'},\n {'slug': 'grzegorz-panszczyk', 'id_sofascore': ''},\n {'slug': 'eryk-borczynski', 'id_sofascore': '879695'},\n {'slug': 'krystian-sornat', 'id_sofascore': '1138667'},\n {'slug': 'kacper-chudecki', 'id_sofascore': ''},\n {'slug': 'piotr-ponski', 'id_sofascore': '878976'},\n {'slug': 'kacper-wiecha', 'id_sofascore': '1138706'},\n {'slug': 'kornel-losak', 'id_sofascore': ''},\n {'slug': 'marcin-chmielowiec', 'id_sofascore': ''},\n {'slug': 'daniel-nowak', 'id_sofascore': '890417'},\n {'slug': 'cezary-matuszewski', 'id_sofascore': ''},\n {'slug': 'konrad-stanczyk', 'id_sofascore': ''},\n {'slug': 'artur-pirog', 'id_sofascore': '941970'},\n {'slug': 'damian-smolen', 'id_sofascore': '883173'},\n {'slug': 'krzysztof-sendorek', 'id_sofascore': '1009587'},\n {'slug': 'jakub-sowa', 'id_sofascore': ''},\n {'slug': 'mateusz-burliga', 'id_sofascore': ''},\n {'slug': 'michal-jewula', 'id_sofascore': ''},\n {'slug': 'dawid-dukala', 'id_sofascore': ''},\n {'slug': 'michal-barnas', 'id_sofascore': ''},\n {'slug': 'mateusz-jarzynka', 'id_sofascore': '883171'},\n {'slug': 'dominik-pieprzyca', 'id_sofascore': ''},\n {'slug': 'adrian-kajpust', 'id_sofascore': '941718'},\n {'slug': 'nikodem-morawski', 'id_sofascore': ''},\n {'slug': 'dorian-pitula', 'id_sofascore': '991911'},\n {'slug': 'szymon-mik', 'id_sofascore': ''},\n {'slug': 'kamil-janecki', 'id_sofascore': ''},\n {'slug': 'dominik-franczak', 'id_sofascore': ''},\n {'slug': 'michal-zieba', 'id_sofascore': '1594711'},\n {'slug': 'radoslaw-kanach', 'id_sofascore': '949380'},\n {'slug': 'robert-ozog', 'id_sofascore': '941548'},\n {'slug': 'bartosz-czarnecki', 'id_sofascore': ''},\n {'slug': 'sylwester-lusiusz', 'id_sofascore': '888950'},\n {'slug': 'mateusz-supryn', 'id_sofascore': '962456'},\n {'slug': 'jan-czerlunczakiewicz', 'id_sofascore': ''},\n {'slug': 'mateusz-jamrozy', 'id_sofascore': ''},\n {'slug': 'juliusz-gorzen', 'id_sofascore': ''},\n {'slug': 'lukasz-feret', 'id_sofascore': ''},\n {'slug': 'mateusz-feret', 'id_sofascore': ''},\n {'slug': 'arkadiusz-jurek', 'id_sofascore': ''},\n {'slug': 'dariusz-zaba', 'id_sofascore': ''},\n {'slug': 'grzegorz-gawle', 'id_sofascore': '893134'},\n {'slug': 'patryk-zaucha', 'id_sofascore': '999875'},\n {'slug': 'kacper-malinowski', 'id_sofascore': ''},\n {'slug': 'kamil-pestka', 'id_sofascore': '883172'},\n {'slug': 'hubert-adamczyk', 'id_sofascore': '829030'},\n {'slug': 'sebastian-strozik', 'id_sofascore': '914546'},\n {'slug': 'filip-sroka', 'id_sofascore': ''},\n {'slug': 'bartlomiej-tymoszuk', 'id_sofascore': ''},\n {'slug': 'adrian-zmuda', 'id_sofascore': ''},\n {'slug': 'jakub-bator', 'id_sofascore': '1020024'},\n {'slug': 'grzegorz-chlebda', 'id_sofascore': ''},\n {'slug': 'krystian-kalinowski', 'id_sofascore': '825768'},\n {'slug': 'grzegorz-pyzio', 'id_sofascore': ''},\n {'slug': 'jakub-rzeszut', 'id_sofascore': ''},\n {'slug': 'szymon-stec', 'id_sofascore': ''},\n {'slug': 'kacper-sutor', 'id_sofascore': ''},\n {'slug': 'pawel-witsanko', 'id_sofascore': ''},\n {'slug': 'karol-kondrat', 'id_sofascore': ''},\n {'slug': 'beniamin-kucy', 'id_sofascore': ''},\n {'slug': 'damian-maslej', 'id_sofascore': ''},\n {'slug': 'dawid-sliwinski', 'id_sofascore': '250527'},\n {'slug': 'maciej-diduszko', 'id_sofascore': '992960'},\n {'slug': 'radoslaw-wasiuk', 'id_sofascore': ''},\n {'slug': 'jakub-ostrowski', 'id_sofascore': '971473'},\n {'slug': 'kamil-piatkowski', 'id_sofascore': '942335'},\n {'slug': 'kamil-kruk', 'id_sofascore': '1032860'},\n {'slug': 'serafin-szota', 'id_sofascore': '887580'},\n {'slug': 'mateusz-kulchawy', 'id_sofascore': '991057'},\n {'slug': 'maciej-warpas', 'id_sofascore': '980753'},\n {'slug': 'pawel-zyra', 'id_sofascore': '798698'},\n {'slug': 'kacper-szymankiewicz', 'id_sofascore': '921752'},\n {'slug': 'bartosz-slisz', 'id_sofascore': '844500'},\n {'slug': 'maciej-majdowski', 'id_sofascore': ''},\n {'slug': 'bartosz-ciesielski', 'id_sofascore': ''},\n {'slug': 'dawid-pakulski', 'id_sofascore': '913963'},\n {'slug': 'lukasz-soszynski', 'id_sofascore': '989447'},\n {'slug': 'lukasz-szukielowicz', 'id_sofascore': '957282'},\n {'slug': 'kornel-ciupka', 'id_sofascore': '1022417'},\n {'slug': 'kryspin-karbownik', 'id_sofascore': ''},\n {'slug': 'wiktor-nahrebecki', 'id_sofascore': '1594633'},\n {'slug': 'kacper-nowak', 'id_sofascore': '1424754'},\n {'slug': 'radoslaw-dzierbicki', 'id_sofascore': '844501'},\n {'slug': 'jakub-obloj', 'id_sofascore': ''},\n {'slug': 'patryk-jarantowicz', 'id_sofascore': ''},\n {'slug': 'jakub-rys', 'id_sofascore': ''},\n {'slug': 'patryk-grychtolik', 'id_sofascore': '981298'},\n {'slug': 'jakub-brzezowski', 'id_sofascore': '1411031'},\n {'slug': 'kacper-chodyna', 'id_sofascore': '942334'},\n {'slug': 'oskar-gizinski', 'id_sofascore': ''},\n {'slug': 'krzysztof-staskiewicz', 'id_sofascore': '1417432'},\n {'slug': 'mateusz-piotrowski', 'id_sofascore': '1148133'},\n {'slug': 'olaf-nowak', 'id_sofascore': '941398'},\n {'slug': 'przemyslaw-siudak', 'id_sofascore': ''},\n {'slug': 'szymon-tragarz', 'id_sofascore': ''},\n {'slug': 'marcel-wolan', 'id_sofascore': ''},\n {'slug': 'norbert-walczak', 'id_sofascore': ''},\n {'slug': 'karol-wierzchowski', 'id_sofascore': ''},\n {'slug': 'dominik-sasiak', 'id_sofascore': '1009471'},\n {'slug': 'mikolaj-brylewski', 'id_sofascore': '801448'},\n {'slug': 'daniel-kusztan', 'id_sofascore': '935290'},\n {'slug': 'kacper-pietrzak', 'id_sofascore': ''},\n {'slug': 'oskar-piernicki', 'id_sofascore': '921227'},\n {'slug': 'szymon-walenski', 'id_sofascore': '956646'},\n {'slug': 'hubert-sadowski', 'id_sofascore': '956258'},\n {'slug': 'sebastian-nagel', 'id_sofascore': ''},\n {'slug': 'wojciech-blyszko', 'id_sofascore': '971474'},\n {'slug': 'fabian-pach', 'id_sofascore': ''},\n {'slug': 'marcel-stefaniak', 'id_sofascore': '941604'},\n {'slug': 'michal-macuk', 'id_sofascore': ''},\n {'slug': 'mateusz-bartolewski', 'id_sofascore': '955982'},\n {'slug': 'danian-pavlas', 'id_sofascore': '1021232'},\n {'slug': 'jedrzej-kujawa', 'id_sofascore': '886747'},\n {'slug': 'michal-graczyk', 'id_sofascore': '1089538'},\n {'slug': 'szymon-jopek', 'id_sofascore': '882637'},\n {'slug': 'stanislaw-wawrzynowicz', 'id_sofascore': '941967'},\n {'slug': 'maciej-zurawski', 'id_sofascore': '941226'},\n {'slug': 'bartosz-bielak', 'id_sofascore': ''},\n {'slug': 'patryk-miklas', 'id_sofascore': ''},\n {'slug': 'damian-pawlowski', 'id_sofascore': '938661'},\n {'slug': 'gracjan-kusmierek', 'id_sofascore': '912791'},\n {'slug': 'rafal-mackowski', 'id_sofascore': '916112'},\n {'slug': 'mateusz-bochnak', 'id_sofascore': '881951'},\n {'slug': 'michal-sacharuk', 'id_sofascore': '984797'},\n {'slug': 'kacper-michalski', 'id_sofascore': '940543'},\n {'slug': 'mateusz-mackowiak', 'id_sofascore': '1034268'},\n {'slug': 'jakub-paprzycki', 'id_sofascore': ''},\n {'slug': 'sebastian-kowalczyk', 'id_sofascore': '864926'},\n {'slug': 'gracjan-jaroch', 'id_sofascore': '846675'},\n {'slug': 'blazej-starzycki', 'id_sofascore': '971478'},\n {'slug': 'bartosz-boniecki', 'id_sofascore': '1020582'},\n {'slug': 'adrian-benedyczak', 'id_sofascore': '928295'},\n {'slug': 'mikolaj-midzio', 'id_sofascore': ''},\n {'slug': 'michal-gorzynski', 'id_sofascore': ''},\n {'slug': 'aron-stasiak', 'id_sofascore': '915600'},\n {'slug': 'oskar-furst', 'id_sofascore': '990257'},\n {'slug': 'hubert-gostomski', 'id_sofascore': '843318'},\n {'slug': 'luka-gugeshashvili', 'id_sofascore': '827472'},\n {'slug': 'robert-nowacki', 'id_sofascore': ''},\n {'slug': 'karol-gres', 'id_sofascore': ''},\n {'slug': 'wiktor-kwiatkowski', 'id_sofascore': ''},\n {'slug': 'jakub-tomar', 'id_sofascore': ''},\n {'slug': 'maciej-korecki', 'id_sofascore': ''},\n {'slug': 'damian-glebocki', 'id_sofascore': ''},\n {'slug': 'kamil-pajnowski', 'id_sofascore': '796993'},\n {'slug': 'mateusz-maliszewski', 'id_sofascore': '576226'},\n {'slug': 'michal-kozlik', 'id_sofascore': ''},\n {'slug': 'rafal-kiczuk', 'id_sofascore': ''},\n {'slug': 'dominik-prusaczyk', 'id_sofascore': '580228'},\n {'slug': 'tomasz-panek', 'id_sofascore': '1524881'},\n {'slug': 'jan-zysik', 'id_sofascore': ''},\n {'slug': 'pawel-olszewski', 'id_sofascore': '840334'},\n {'slug': 'bartosz-ciborowski', 'id_sofascore': ''},\n {'slug': 'bartosz-golaszewski', 'id_sofascore': ''},\n {'slug': 'patryk-niemczynowicz', 'id_sofascore': '798682'},\n {'slug': 'dawid-polkowski', 'id_sofascore': '798680'},\n {'slug': 'patryk-koncewicz', 'id_sofascore': '798681'},\n {'slug': 'mateusz-ostaszewski', 'id_sofascore': ''},\n {'slug': 'tomasz-zareba', 'id_sofascore': ''},\n {'slug': 'artur-renkowski', 'id_sofascore': ''},\n {'slug': 'mateusz-oksienczuk', 'id_sofascore': ''},\n {'slug': 'mateusz-prolejko', 'id_sofascore': '873420'},\n {'slug': 'mateusz-mikolajczyk', 'id_sofascore': ''},\n {'slug': 'bartosz-borowik', 'id_sofascore': ''},\n {'slug': 'erwin-grzybiak', 'id_sofascore': ''},\n {'slug': 'mikolaj-nawrocki', 'id_sofascore': '941393'},\n {'slug': 'jakub-tabor', 'id_sofascore': ''},\n {'slug': 'kamil-huczko', 'id_sofascore': ''},\n {'slug': 'kacper-glowicki', 'id_sofascore': ''},\n {'slug': 'marcin-pigiel', 'id_sofascore': '971376'},\n {'slug': 'przemyslaw-mystkowski', 'id_sofascore': '559970'},\n {'slug': 'michal-domanski', 'id_sofascore': '798677'},\n {'slug': 'pawel-kaczmarczyk', 'id_sofascore': '576230'},\n {'slug': 'mateusz-nikolajuk', 'id_sofascore': '916045'},\n {'slug': 'jakub-romanowicz', 'id_sofascore': '1020550'},\n {'slug': 'patryk-klimala', 'id_sofascore': '851350'},\n {'slug': 'damian-toczydlowski', 'id_sofascore': ''},\n {'slug': 'jakub-konon', 'id_sofascore': ''},\n {'slug': 'maksymilian-fryczkowski', 'id_sofascore': ''},\n {'slug': 'piotr-zabielski', 'id_sofascore': '1144387'},\n {'slug': 'adrian-mynarski', 'id_sofascore': ''},\n {'slug': 'mateusz-sobczak', 'id_sofascore': '1435747'},\n {'slug': 'krystian-paszkowski', 'id_sofascore': ''},\n {'slug': 'piotr-szermach', 'id_sofascore': ''},\n {'slug': 'wiktor-malinowski', 'id_sofascore': ''},\n {'slug': 'daniel-golus', 'id_sofascore': '1148121'},\n {'slug': 'dawid-matuszewski', 'id_sofascore': ''},\n {'slug': 'bartosz-mroz', 'id_sofascore': ''},\n {'slug': 'piotr-jasinski', 'id_sofascore': ''},\n {'slug': 'radoslaw-ryl', 'id_sofascore': ''},\n {'slug': 'damian-was', 'id_sofascore': ''},\n {'slug': 'konrad-poprawa', 'id_sofascore': '887691'},\n {'slug': 'sebastian-golak', 'id_sofascore': '1384799'},\n {'slug': 'lukasz-sztylka', 'id_sofascore': '1594589'},\n {'slug': 'jakub-kierkiewicz', 'id_sofascore': ''},\n {'slug': 'milosz-taranek', 'id_sofascore': ''},\n {'slug': 'kacper-izydorczyk', 'id_sofascore': ''},\n {'slug': 'bartosz-borun', 'id_sofascore': '984806'},\n {'slug': 'michal-kuriata', 'id_sofascore': '1594603'},\n {'slug': 'mateusz-palach', 'id_sofascore': '923499'},\n {'slug': 'mateusz-fiks', 'id_sofascore': ''},\n {'slug': 'adrian-puchala', 'id_sofascore': ''},\n {'slug': 'thomas-radon', 'id_sofascore': ''},\n {'slug': 'kacper-korkosz', 'id_sofascore': ''},\n {'slug': 'maciej-palaszewski', 'id_sofascore': '798075'},\n {'slug': 'patryk-ostrowski', 'id_sofascore': ''},\n {'slug': 'mateusz-plociennik', 'id_sofascore': ''},\n {'slug': 'adrian-lyszczarz', 'id_sofascore': '842341'},\n {'slug': 'grzegorz-kotowicz', 'id_sofascore': '1148145'},\n {'slug': 'mateusz-czerwinski', 'id_sofascore': ''},\n {'slug': 'sebastian-bergier', 'id_sofascore': '913575'},\n {'slug': 'szymon-kusnierz', 'id_sofascore': ''},\n {'slug': 'jakub-karykowski', 'id_sofascore': ''},\n {'slug': 'mateusz-gladysz', 'id_sofascore': ''},\n {'slug': 'radoslaw-majecki', 'id_sofascore': '849114'},\n {'slug': 'tomasz-wroblewski', 'id_sofascore': '915851'},\n {'slug': 'michal-golunski', 'id_sofascore': ''},\n {'slug': 'maciej-babel', 'id_sofascore': '850295'},\n {'slug': 'jozef-burta', 'id_sofascore': '971382'},\n {'slug': 'mateusz-kochalski', 'id_sofascore': '851249'},\n {'slug': 'maciej-ostrowski', 'id_sofascore': '857909'},\n {'slug': 'mateusz-zyro', 'id_sofascore': '851245'},\n {'slug': 'mateusz-bondarenko', 'id_sofascore': '851241'},\n {'slug': 'sebastian-walukiewicz', 'id_sofascore': '886243'},\n {'slug': 'kacper-pietrzyk', 'id_sofascore': '1186200'},\n {'slug': 'karol-potrzebowski', 'id_sofascore': ''},\n {'slug': 'bartosz-olszewski', 'id_sofascore': '907507'},\n {'slug': 'adrian-malachowski', 'id_sofascore': '851242'},\n {'slug': 'eryk-agnyziak', 'id_sofascore': '957971'},\n {'slug': 'jakub-kaminski', 'id_sofascore': '801263'},\n {'slug': 'wiktor-sobczyk', 'id_sofascore': '831324'},\n {'slug': 'bartosz-zychowicz', 'id_sofascore': '903954'},\n {'slug': 'bartosz-rymek', 'id_sofascore': '1148114'},\n {'slug': 'aleksander-waniek', 'id_sofascore': '851252'},\n {'slug': 'bartlomiej-urbanski', 'id_sofascore': '851251'},\n {'slug': 'patryk-baran', 'id_sofascore': ''},\n {'slug': 'oskar-wojtysiak', 'id_sofascore': ''},\n {'slug': 'piotr-cichocki', 'id_sofascore': '851247'},\n {'slug': 'mateusz-szwed', 'id_sofascore': '907513'},\n {'slug': 'dawid-szalas', 'id_sofascore': ''},\n {'slug': 'konrad-handzlik', 'id_sofascore': '571314'},\n {'slug': 'mateusz-praszelik', 'id_sofascore': '863022'},\n {'slug': 'milosz-szczepanski', 'id_sofascore': '851244'},\n {'slug': 'kamil-orlik', 'id_sofascore': '857910'},\n {'slug': 'grzegorz-aftyka', 'id_sofascore': '851246'},\n {'slug': 'mikolaj-neuman', 'id_sofascore': '905043'},\n {'slug': 'mateusz-leleno', 'id_sofascore': '851250'},\n {'slug': 'mateusz-olejarka', 'id_sofascore': '907511'},\n {'slug': 'michal-krol', 'id_sofascore': '907506'},\n {'slug': 'mikolaj-napora', 'id_sofascore': '971480'},\n {'slug': 'michal-goral', 'id_sofascore': '907505'},\n {'slug': 'kacper-welniak', 'id_sofascore': '905047'},\n {'slug': 'patryk-czarnowski', 'id_sofascore': '851248'},\n {'slug': 'daniel-karczewski', 'id_sofascore': '801362'},\n {'slug': 'krystian-krupa', 'id_sofascore': '1489523'},\n {'slug': 'michal-andrzejkiewicz', 'id_sofascore': ''},\n {'slug': 'oskar-kasperek', 'id_sofascore': ''},\n {'slug': 'alan-rakowski', 'id_sofascore': ''},\n {'slug': 'marcin-czajka', 'id_sofascore': ''},\n {'slug': 'dorian-goliszewski', 'id_sofascore': ''},\n {'slug': 'sebastian-pyda', 'id_sofascore': ''},\n {'slug': 'bartlomiej-tkaczuk', 'id_sofascore': ''},\n {'slug': 'jakub-wankiewicz', 'id_sofascore': ''},\n {'slug': 'patryk-mitura', 'id_sofascore': ''},\n {'slug': 'daniel-mostowiec', 'id_sofascore': ''},\n {'slug': 'michal-chachula', 'id_sofascore': ''},\n {'slug': 'daniel-brzozowski', 'id_sofascore': ''},\n {'slug': 'karol-ordyniec', 'id_sofascore': ''},\n {'slug': 'piotr-chodziutko', 'id_sofascore': ''},\n {'slug': 'mateusz-chyla', 'id_sofascore': ''},\n {'slug': 'maksymilian-cichocki', 'id_sofascore': '1148019'},\n {'slug': 'bartlomiej-kozlowski', 'id_sofascore': ''},\n {'slug': 'piotr-kozuchowski', 'id_sofascore': '1592600'},\n {'slug': 'szymon-kaminski', 'id_sofascore': ''},\n {'slug': 'rafal-dobrzynski', 'id_sofascore': ''},\n {'slug': 'przemyslaw-ilczuk', 'id_sofascore': ''},\n {'slug': 'michal-matys', 'id_sofascore': '1149267'},\n {'slug': 'norbert-pios', 'id_sofascore': ''},\n {'slug': 'kacper-waniowski', 'id_sofascore': ''},\n {'slug': 'maciej-welman', 'id_sofascore': '1521783'},\n {'slug': 'krzysztof-jaskiewicz', 'id_sofascore': ''},\n {'slug': 'jakub-buczek', 'id_sofascore': '1521809'},\n {'slug': 'szymon-kobialka', 'id_sofascore': ''},\n {'slug': 'piotr-waszczynski', 'id_sofascore': ''},\n {'slug': 'krzysztof-rybak', 'id_sofascore': ''},\n {'slug': 'przemyslaw-koszel', 'id_sofascore': '845049'},\n {'slug': 'mikolaj-grzeda', 'id_sofascore': '1521460'},\n {'slug': 'olaf-martynek', 'id_sofascore': '920656'},\n {'slug': 'patryk-szysz', 'id_sofascore': '831930'},\n {'slug': 'piotr-lecki', 'id_sofascore': ''},\n {'slug': 'rafal-al-swaiti', 'id_sofascore': ''},\n {'slug': 'adrian-zielinski', 'id_sofascore': '252977'},\n {'slug': 'aleksander-flis', 'id_sofascore': ''},\n {'slug': 'kacper-persona', 'id_sofascore': ''},\n {'slug': 'adam-mazurek', 'id_sofascore': ''},\n {'slug': 'kamil-wachala', 'id_sofascore': ''},\n {'slug': 'klaudiusz-szymura', 'id_sofascore': ''},\n {'slug': 'bartlomiej-switala', 'id_sofascore': ''},\n {'slug': 'mikolaj-michna', 'id_sofascore': ''},\n {'slug': 'kacper-czajkowski', 'id_sofascore': '891482'},\n {'slug': 'dominik-malkowski', 'id_sofascore': '891481'},\n {'slug': 'szymon-gorecki', 'id_sofascore': '1148008'},\n {'slug': 'bartosz-gesior', 'id_sofascore': '843322'},\n {'slug': 'tomasz-holos', 'id_sofascore': ''},\n {'slug': 'dominik-szol', 'id_sofascore': ''},\n {'slug': 'sergiusz-hanel', 'id_sofascore': ''},\n {'slug': 'patryk-sikora', 'id_sofascore': '891486'},\n {'slug': 'mateusz-lajblich', 'id_sofascore': ''},\n {'slug': 'stanislaw-sarwicki', 'id_sofascore': ''},\n {'slug': 'dawid-piekarski', 'id_sofascore': ''},\n {'slug': 'przemyslaw-bargiel', 'id_sofascore': '839344'},\n {'slug': 'dominik-lewandowski', 'id_sofascore': '891483'},\n {'slug': 'marcin-milota', 'id_sofascore': ''},\n {'slug': 'aleksander-sobczak', 'id_sofascore': '921217'},\n {'slug': 'szymon-pajkert', 'id_sofascore': ''},\n {'slug': 'dominik-teda', 'id_sofascore': ''},\n {'slug': 'krystian-wojtczyk', 'id_sofascore': ''},\n {'slug': 'szymon-malicki', 'id_sofascore': '416365'},\n {'slug': 'dominik-bieniek', 'id_sofascore': ''},\n {'slug': 'damian-pedziwiatr', 'id_sofascore': ''},\n {'slug': 'kacper-kokosza', 'id_sofascore': '971396'},\n {'slug': 'damian-augustyniak', 'id_sofascore': '171085'},\n {'slug': 'marcin-skawinski', 'id_sofascore': ''},\n {'slug': 'maciej-weglewski', 'id_sofascore': ''},\n {'slug': 'mateusz-wiewiorowski', 'id_sofascore': ''},\n {'slug': 'piotr-zerka', 'id_sofascore': ''},\n {'slug': 'michal-klimczak', 'id_sofascore': ''},\n {'slug': 'albert-jasitczak', 'id_sofascore': ''},\n {'slug': 'artur-cholerzynski', 'id_sofascore': ''},\n {'slug': 'mikolaj-kotowski', 'id_sofascore': ''},\n {'slug': 'damian-michalski', 'id_sofascore': '841409'},\n {'slug': 'bartlomiej-ozga', 'id_sofascore': ''},\n {'slug': 'daniel-chwalowski', 'id_sofascore': '921225'},\n {'slug': 'maciej-walczak', 'id_sofascore': ''},\n {'slug': 'bartlomiej-zielinski', 'id_sofascore': '921226'},\n {'slug': 'jakub-szaniec', 'id_sofascore': ''},\n {'slug': 'mateusz-ciesielski', 'id_sofascore': '920655'},\n {'slug': 'michal-dymek', 'id_sofascore': ''},\n {'slug': 'marcin-lewicki', 'id_sofascore': ''},\n {'slug': 'rafal-marynowski', 'id_sofascore': ''},\n {'slug': 'oskar-mazerant', 'id_sofascore': ''},\n {'slug': 'mikolaj-nowak', 'id_sofascore': '1432899'},\n {'slug': 'kacper-podedworny', 'id_sofascore': ''},\n {'slug': 'rafal-trzmiel', 'id_sofascore': ''},\n {'slug': 'marcel-grot', 'id_sofascore': ''},\n {'slug': 'marcin-ryszka', 'id_sofascore': '889649'},\n {'slug': 'kacper-szafranski', 'id_sofascore': ''},\n {'slug': 'aleksander-michalski', 'id_sofascore': ''},\n {'slug': 'sebastian-janik', 'id_sofascore': '39442'},\n {'slug': 'damian-siewiera', 'id_sofascore': ''},\n {'slug': 'damian-michalak', 'id_sofascore': '971431'},\n {'slug': 'kornel-stankiewicz', 'id_sofascore': ''},\n {'slug': 'marcel-ogrodowczyk', 'id_sofascore': ''},\n {'slug': 'mieszko-spiewak', 'id_sofascore': ''},\n {'slug': 'wojciech-byszewski', 'id_sofascore': ''},\n {'slug': 'kamil-kopec', 'id_sofascore': ''},\n {'slug': 'kordian-gorka', 'id_sofascore': '971412'},\n {'slug': 'hubert-berlowski', 'id_sofascore': '921229'},\n {'slug': 'michal-kutyba', 'id_sofascore': ''},\n {'slug': 'filip-przybylski', 'id_sofascore': ''},\n {'slug': 'krzysztof-ruszkiewicz', 'id_sofascore': ''},\n {'slug': 'kacper-wojtczyk', 'id_sofascore': ''},\n {'slug': 'mateusz-stolarczyk', 'id_sofascore': '956479'},\n {'slug': 'konrad-matuszewski', 'id_sofascore': '907510'},\n {'slug': 'przemyslaw-zdybowicz', 'id_sofascore': '921228'},\n {'slug': 'mateusz-szyszkowski', 'id_sofascore': ''}]"
     },
     "execution_count": 14,
     "metadata": {},
     "output_type": "execute_result"
    }
   ],
   "source": [
    "players_list = []\n",
    "with open(players_ids_src, \"r\") as csv_file:\n",
    "    csv_reader = csv.DictReader(csv_file)\n",
    "    for row in csv_reader:\n",
    "        slug = row['slug']\n",
    "        id_sofascore = row['id_sofascore']\n",
    "        player_id = {'slug': slug,'id_sofascore': id_sofascore}\n",
    "        players_list.append(player_id)\n",
    "        \n",
    "players_list"
   ],
   "metadata": {
    "collapsed": false,
    "ExecuteTime": {
     "end_time": "2023-12-04T22:17:30.337490200Z",
     "start_time": "2023-12-04T22:17:30.300303100Z"
    }
   },
   "id": "955d169857a403c5"
  },
  {
   "cell_type": "code",
   "execution_count": 20,
   "outputs": [
    {
     "name": "stdout",
     "output_type": "stream",
     "text": [
      "Dane zostały zapisane do pliku CSV: ..\\..\\data\\sofascore\\players_details_sofascore.csv\n"
     ]
    }
   ],
   "source": [
    "with open(players_details_csv_file_path, \"w\", newline=\"\") as csv_file:\n",
    "    csv_writer = csv.DictWriter(csv_file, fieldnames=selected_keys)\n",
    "    csv_writer.writeheader()\n",
    "\n",
    "    # Zapisywanie danych do pliku CSV\n",
    "    for player in players_list:\n",
    "        slug_flag = bool\n",
    "        if player[\"id_sofascore\"] == '':\n",
    "            selected_data = {\n",
    "                \"id\": player[\"id_sofascore\"],\n",
    "                \"slug\": player[\"slug\"],\n",
    "                \"team\": None,\n",
    "                \"height\": None,\n",
    "                \"preferredFoot\": None,\n",
    "                \"marketValue\": None\n",
    "             }\n",
    "            slug_flag = True\n",
    "        else:\n",
    "            response = requests.get(f'https://api.sofascore.com/api/v1/player/{player[\"id_sofascore\"]}', headers=headers)\n",
    "            player_response = response.json()\n",
    "            player_data = player_response.get(\"player\", {})\n",
    "            if player[\"slug\"] == player_data.get('slug', \"\"):\n",
    "                marketValue = [str(player_data.get(\"proposedMarketValueRaw\", {}).get(\"value\", \"\")), player_data.get(\"proposedMarketValueRaw\", {}).get(\"currency\", \"\")]\n",
    "                selected_data = {\n",
    "                    \"id\": player_data.get(\"id\", \"\"),\n",
    "                    \"slug\": unidecode(player_data.get(\"slug\", \"\")),\n",
    "                    \"team\": unidecode(player_data.get(\"team\", {}).get(\"slug\",\"\")),\n",
    "                    \"height\": player_data.get(\"height\", \"\"),\n",
    "                    \"preferredFoot\": player_data.get(\"preferredFoot\", \"\"),\n",
    "                    \"marketValue\": \" \".join(marketValue)\n",
    "                }\n",
    "                slug_flag = True\n",
    "            else:\n",
    "                slug_flag = False\n",
    "        if slug_flag:\n",
    "            csv_writer.writerow(selected_data)\n",
    "\n",
    "print(f\"Dane zostały zapisane do pliku CSV: {players_details_csv_file_path}\")"
   ],
   "metadata": {
    "collapsed": false,
    "ExecuteTime": {
     "end_time": "2023-12-04T22:22:49.160845800Z",
     "start_time": "2023-12-04T22:22:21.627691100Z"
    }
   },
   "id": "d9b0f5eae58f871"
  },
  {
   "cell_type": "code",
   "execution_count": null,
   "outputs": [],
   "source": [],
   "metadata": {
    "collapsed": false
   },
   "id": "ba87c012a8307352"
  }
 ],
 "metadata": {
  "kernelspec": {
   "display_name": "Python 3",
   "language": "python",
   "name": "python3"
  },
  "language_info": {
   "codemirror_mode": {
    "name": "ipython",
    "version": 2
   },
   "file_extension": ".py",
   "mimetype": "text/x-python",
   "name": "python",
   "nbconvert_exporter": "python",
   "pygments_lexer": "ipython2",
   "version": "2.7.6"
  }
 },
 "nbformat": 4,
 "nbformat_minor": 5
}
