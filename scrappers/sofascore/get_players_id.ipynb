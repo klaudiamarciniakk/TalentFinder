{
 "cells": [
  {
   "cell_type": "code",
   "execution_count": 18,
   "id": "initial_id",
   "metadata": {
    "collapsed": true,
    "ExecuteTime": {
     "end_time": "2023-12-18T22:11:42.439111200Z",
     "start_time": "2023-12-18T22:11:42.426601700Z"
    }
   },
   "outputs": [],
   "source": [
    "import csv\n",
    "import requests\n",
    "from unidecode import unidecode \n",
    "import os"
   ]
  },
  {
   "cell_type": "code",
   "execution_count": 19,
   "outputs": [],
   "source": [
    "headers = {\n",
    "    'authority': 'api.sofascore.com',\n",
    "    'accept': '*/*',\n",
    "    'accept-language': 'pl-PL,pl;q=0.9,en-US;q=0.8,en;q=0.7',\n",
    "    'cache-control': 'max-age=0',\n",
    "    'if-none-match': 'W/\"f810540cc3\"',\n",
    "    'origin': 'https://www.sofascore.com',\n",
    "    'referer': 'https://www.sofascore.com/',\n",
    "    'sec-ch-ua': '\"Chromium\";v=\"116\", \"Not)A;Brand\";v=\"24\", \"Opera GX\";v=\"102\"',\n",
    "    'sec-ch-ua-mobile': '?0',\n",
    "    'sec-ch-ua-platform': '\"Windows\"',\n",
    "    'sec-fetch-dest': 'empty',\n",
    "    'sec-fetch-mode': 'cors',\n",
    "    'sec-fetch-site': 'same-site',\n",
    "    'user-agent': 'Mozilla/5.0 (Windows NT 10.0; Win64; x64) AppleWebKit/537.36 (KHTML, like Gecko) Chrome/116.0.0.0 Safari/537.36 OPR/102.0.0.0'\n",
    "}\n",
    "headers['If-Modified-Since'] = 'Sun, 19 Nov 2023 00:00:00 GMT'"
   ],
   "metadata": {
    "collapsed": false,
    "ExecuteTime": {
     "end_time": "2023-12-18T22:11:43.172937Z",
     "start_time": "2023-12-18T22:11:43.157426700Z"
    }
   },
   "id": "7932cd446d61fc0f"
  },
  {
   "cell_type": "code",
   "execution_count": 36,
   "outputs": [],
   "source": [
    "def timestamp_to_date(timestamp):\n",
    "    dt_object = datetime.utcfromtimestamp(timestamp)\n",
    "    formatted_date = dt_object.strftime('%Y-%m-%d')\n",
    "    return formatted_date"
   ],
   "metadata": {
    "collapsed": false,
    "ExecuteTime": {
     "end_time": "2023-12-18T22:23:48.650675700Z",
     "start_time": "2023-12-18T22:23:48.631581100Z"
    }
   },
   "id": "cabb037d63262c9"
  },
  {
   "cell_type": "code",
   "execution_count": 37,
   "outputs": [],
   "source": [
    "def format_date(input_date):\n",
    "    # Parsuj datę w formacie d.m.Y\n",
    "    parsed_date = datetime.strptime(input_date, '%d.%m.%Y')\n",
    "    \n",
    "    # Formatuj datę z 0 przy dniu, jeśli jest jednocyfrowy\n",
    "    formatted_date = parsed_date.strftime('%Y-%m-%d')\n",
    "    \n",
    "    return formatted_date"
   ],
   "metadata": {
    "collapsed": false,
    "ExecuteTime": {
     "end_time": "2023-12-18T22:23:49.148331800Z",
     "start_time": "2023-12-18T22:23:49.141906700Z"
    }
   },
   "id": "99e099f632d7bb0a"
  },
  {
   "cell_type": "code",
   "execution_count": 41,
   "outputs": [
    {
     "name": "stdout",
     "output_type": "stream",
     "text": [
      "28.06.2003\n",
      "2003-06-28\n",
      "5.07.2000\n",
      "2000-07-05\n",
      "23.07.2000\n",
      "2000-07-23\n",
      "20.03.2001\n",
      "2001-03-20\n",
      "10.03.2002\n",
      "2002-03-10\n",
      "3.05.2000\n",
      "2000-05-03\n",
      "27.03.2000\n",
      "2000-03-27\n",
      "27.03.2001\n",
      "2001-03-27\n",
      "16.12.2002\n",
      "2002-12-16\n",
      "26.01.2001\n",
      "2001-01-26\n",
      "24.06.1999\n",
      "1999-06-24\n",
      "6.06.1999\n",
      "1999-06-06\n"
     ]
    }
   ],
   "source": [
    "players_id_file_src = os.path.join('..', '..', 'data', 'transfermarkt', 'players_temp.csv')\n",
    "players_list = []\n",
    "\n",
    "with open(players_id_file_src, 'r') as csv_file:\n",
    "    csv_reader = csv.DictReader(csv_file)\n",
    "        \n",
    "    for row in csv_reader:\n",
    "        name = row['name']\n",
    "        slug = row['slug'] \n",
    "        id_transfermarkt = row['id']\n",
    "        date_of_birth = format_date(row['birth_date'])\n",
    "        print(row['birth_date'])\n",
    "        print(date_of_birth)\n",
    "        player = requests.get(f'https://api.sofascore.com/api/v1/search/{slug}', headers=headers).json()\n",
    "        players_details = player.get(\"results\", [])\n",
    "        correct_player_flag = False\n",
    "        if len(players_details) != 0:\n",
    "            for player_data in players_details:\n",
    "                if player_data.get('type', \"\") == \"player\":\n",
    "                    player = player_data.get(\"entity\", {})\n",
    "                    # print(slug)\n",
    "                    # print(player.get(\"slug\", \"\"))\n",
    "                    # print(player_data)\n",
    "                    # print(player.get(\"type\", \"\"))\n",
    "                    # print(slug)\n",
    "                    # print(player.get(\"id\", \"\"))\n",
    "                    player_details = requests.get(f'https://api.sofascore.com/api/v1/player/{player.get(\"id\",\"\")}', headers=headers).json()\n",
    "                    details = player_details.get(\"player\",{})\n",
    "                    date_of_birth_timestamp = details.get(\"dateOfBirthTimestamp\", \"\")\n",
    "                    # print(f\"{timestamp_to_date(date_of_birth_timestamp)} - {date_of_birth}\" )\n",
    "                    if date_of_birth == timestamp_to_date(date_of_birth_timestamp):\n",
    "                        player_ids = {'slug': slug,'id_transfermarkt': id_transfermarkt,'id_sofascore': player.get(\"id\",\"\")}\n",
    "                        correct_player_flag = True\n",
    "                        break\n",
    "            if not correct_player_flag:\n",
    "                player_ids ={'slug': slug,'id_transfermarkt': id_transfermarkt,'id_sofascore': None}\n",
    "        else: \n",
    "            player_ids ={'slug': slug,'id_transfermarkt': id_transfermarkt,'id_sofascore': None}\n",
    "        players_list.append(player_ids)\n",
    "            "
   ],
   "metadata": {
    "collapsed": false,
    "ExecuteTime": {
     "end_time": "2023-12-18T22:42:03.622185400Z",
     "start_time": "2023-12-18T22:42:01.438810800Z"
    }
   },
   "id": "93bf1224d99c7e6e"
  },
  {
   "cell_type": "code",
   "execution_count": 22,
   "outputs": [],
   "source": [
    "output_filename = os.path.join('..', '..', 'data', 'players', 'players_ids_temp.csv')\n",
    "with open(output_filename, 'w', newline='') as output_csv_file:\n",
    "    fieldnames = ['slug', 'id_transfermarkt', 'id_sofascore']\n",
    "    csv_writer = csv.DictWriter(output_csv_file, fieldnames=fieldnames)\n",
    "    csv_writer.writeheader()\n",
    "    csv_writer.writerows(players_list)    "
   ],
   "metadata": {
    "collapsed": false,
    "ExecuteTime": {
     "end_time": "2023-12-18T22:11:48.050076100Z",
     "start_time": "2023-12-18T22:11:48.036559200Z"
    }
   },
   "id": "8ac38e90d38070f5"
  },
  {
   "cell_type": "code",
   "execution_count": 8,
   "outputs": [
    {
     "data": {
      "text/plain": "{'player': {'name': 'Piotr Świątko',\n  'slug': 'piotr-swiatko',\n  'shortName': 'P. Świątko',\n  'team': {'name': 'No team',\n   'slug': 'no-team',\n   'shortName': 'No team',\n   'sport': {'name': 'Football', 'slug': 'football', 'id': 1},\n   'userCount': 13,\n   'nameCode': 'NTE',\n   'disabled': True,\n   'national': False,\n   'type': 0,\n   'id': 241802,\n   'country': {},\n   'teamColors': {'primary': '#d0d0d0',\n    'secondary': '#000000',\n    'text': '#000000'}},\n  'position': 'D',\n  'height': 182,\n  'preferredFoot': 'Right',\n  'userCount': 3,\n  'id': 927724,\n  'country': {'alpha2': 'PL', 'name': 'Poland'},\n  'dateOfBirthTimestamp': 927936000,\n  'proposedMarketValue': 46000,\n  'proposedMarketValueRaw': {'value': 46000, 'currency': 'EUR'}}}"
     },
     "execution_count": 8,
     "metadata": {},
     "output_type": "execute_result"
    }
   ],
   "source": [
    "response = requests.get(f'https://api.sofascore.com/api/v1/player/927724', headers=headers).json()\n",
    "response"
   ],
   "metadata": {
    "collapsed": false,
    "ExecuteTime": {
     "end_time": "2023-12-18T21:13:21.816261200Z",
     "start_time": "2023-12-18T21:13:21.695872900Z"
    }
   },
   "id": "85a06166516f0bf1"
  },
  {
   "cell_type": "code",
   "execution_count": 6,
   "outputs": [],
   "source": [
    "dateBirth = response.get(\"player\", {}).get(\"dateOfBirthTimestamp\",\"\")"
   ],
   "metadata": {
    "collapsed": false,
    "ExecuteTime": {
     "end_time": "2023-12-18T21:12:27.165484300Z",
     "start_time": "2023-12-18T21:12:27.149588700Z"
    }
   },
   "id": "a1ef9db2f9050a9"
  },
  {
   "cell_type": "code",
   "execution_count": 7,
   "outputs": [
    {
     "data": {
      "text/plain": "'1999-05-29 00:00:00'"
     },
     "execution_count": 7,
     "metadata": {},
     "output_type": "execute_result"
    }
   ],
   "source": [
    "from datetime import datetime\n",
    "dt_object = datetime.utcfromtimestamp(dateBirth)\n",
    "formatted_date = dt_object.strftime('%Y-%m-%d %H:%M:%S')\n",
    "formatted_date"
   ],
   "metadata": {
    "collapsed": false,
    "ExecuteTime": {
     "end_time": "2023-12-18T21:12:27.900590600Z",
     "start_time": "2023-12-18T21:12:27.868265Z"
    }
   },
   "id": "5852e22ff5550310"
  },
  {
   "cell_type": "code",
   "execution_count": null,
   "outputs": [],
   "source": [],
   "metadata": {
    "collapsed": false
   },
   "id": "8b70b405d508fa80"
  },
  {
   "cell_type": "code",
   "execution_count": 13,
   "outputs": [
    {
     "data": {
      "text/plain": "{'results': [{'type': 'player',\n   'entity': {'name': 'Piotr Świątko',\n    'slug': 'piotr-swiatko',\n    'shortName': 'P. Świątko',\n    'team': {'name': 'No team',\n     'slug': 'no-team',\n     'shortName': 'No team',\n     'sport': {'name': 'Football', 'slug': 'football', 'id': 1},\n     'userCount': 13,\n     'nameCode': 'NTE',\n     'disabled': True,\n     'national': False,\n     'type': 0,\n     'id': 241802,\n     'country': {},\n     'subTeams': [],\n     'teamColors': {'primary': '#d0d0d0',\n      'secondary': '#000000',\n      'text': '#000000'}},\n    'position': 'D',\n    'userCount': 3,\n    'id': 927724,\n    'country': {'alpha2': 'PL', 'name': 'Poland'}},\n   'score': 2398.8665}]}"
     },
     "execution_count": 13,
     "metadata": {},
     "output_type": "execute_result"
    }
   ],
   "source": [
    "player = requests.get(f'https://api.sofascore.com/api/v1/search/piotr-swiatko', headers=headers).json()\n",
    "player"
   ],
   "metadata": {
    "collapsed": false,
    "ExecuteTime": {
     "end_time": "2023-12-18T21:35:26.012144300Z",
     "start_time": "2023-12-18T21:35:25.860430400Z"
    }
   },
   "id": "a023d994fc59c388"
  },
  {
   "cell_type": "code",
   "execution_count": null,
   "outputs": [],
   "source": [],
   "metadata": {
    "collapsed": false
   },
   "id": "f6f24b5428b4e2cf"
  }
 ],
 "metadata": {
  "kernelspec": {
   "display_name": "Python 3",
   "language": "python",
   "name": "python3"
  },
  "language_info": {
   "codemirror_mode": {
    "name": "ipython",
    "version": 2
   },
   "file_extension": ".py",
   "mimetype": "text/x-python",
   "name": "python",
   "nbconvert_exporter": "python",
   "pygments_lexer": "ipython2",
   "version": "2.7.6"
  }
 },
 "nbformat": 4,
 "nbformat_minor": 5
}
