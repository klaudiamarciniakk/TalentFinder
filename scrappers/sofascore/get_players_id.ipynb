{
 "cells": [
  {
   "cell_type": "code",
   "execution_count": 9,
   "id": "initial_id",
   "metadata": {
    "collapsed": true,
    "ExecuteTime": {
     "end_time": "2023-12-04T18:18:22.675617200Z",
     "start_time": "2023-12-04T18:18:22.666610Z"
    }
   },
   "outputs": [],
   "source": [
    "import csv\n",
    "import requests\n",
    "from unidecode import unidecode \n",
    "import os"
   ]
  },
  {
   "cell_type": "code",
   "execution_count": 10,
   "outputs": [],
   "source": [
    "headers = {\n",
    "    'authority': 'api.sofascore.com',\n",
    "    'accept': '*/*',\n",
    "    'accept-language': 'pl-PL,pl;q=0.9,en-US;q=0.8,en;q=0.7',\n",
    "    'cache-control': 'max-age=0',\n",
    "    'if-none-match': 'W/\"f810540cc3\"',\n",
    "    'origin': 'https://www.sofascore.com',\n",
    "    'referer': 'https://www.sofascore.com/',\n",
    "    'sec-ch-ua': '\"Chromium\";v=\"116\", \"Not)A;Brand\";v=\"24\", \"Opera GX\";v=\"102\"',\n",
    "    'sec-ch-ua-mobile': '?0',\n",
    "    'sec-ch-ua-platform': '\"Windows\"',\n",
    "    'sec-fetch-dest': 'empty',\n",
    "    'sec-fetch-mode': 'cors',\n",
    "    'sec-fetch-site': 'same-site',\n",
    "    'user-agent': 'Mozilla/5.0 (Windows NT 10.0; Win64; x64) AppleWebKit/537.36 (KHTML, like Gecko) Chrome/116.0.0.0 Safari/537.36 OPR/102.0.0.0'\n",
    "}\n",
    "headers['If-Modified-Since'] = 'Sun, 19 Nov 2023 00:00:00 GMT'"
   ],
   "metadata": {
    "collapsed": false,
    "ExecuteTime": {
     "end_time": "2023-12-04T18:18:23.402632300Z",
     "start_time": "2023-12-04T18:18:23.386270800Z"
    }
   },
   "id": "7932cd446d61fc0f"
  },
  {
   "cell_type": "code",
   "execution_count": 12,
   "outputs": [],
   "source": [
    "players_id_file_src = os.path.join('..', '..', 'data', 'transfermarkt', 'players.csv')\n",
    "players_list = []\n",
    "\n",
    "with open(players_id_file_src, 'r') as csv_file:\n",
    "    csv_reader = csv.DictReader(csv_file)\n",
    "        \n",
    "    for row in csv_reader:\n",
    "        name = row['name']\n",
    "        first_name, last_name = name.split()\n",
    "        slug = f\"{first_name}-{last_name}\"\n",
    "        \n",
    "        id_transfermarkt = row['id']\n",
    "        \n",
    "        response = requests.get(f'https://api.sofascore.com/api/v1/search/{slug}', headers=headers)\n",
    "        player = response.json()\n",
    "        players_details = player.get(\"results\", [])\n",
    "        for player_data in players_details[:1]:\n",
    "            player = player_data.get(\"entity\", {})\n",
    "            id_sofascore = player.get(\"id\", \"\")\n",
    "            player_ids = {'slug': slug,'id_transfermarkt': id_transfermarkt,'id_sofascore': id_sofascore}\n",
    "            players_list.append(player_ids)\n",
    "            "
   ],
   "metadata": {
    "collapsed": false,
    "ExecuteTime": {
     "end_time": "2023-12-04T18:21:42.961714Z",
     "start_time": "2023-12-04T18:20:33.181144800Z"
    }
   },
   "id": "93bf1224d99c7e6e"
  },
  {
   "cell_type": "code",
   "execution_count": 13,
   "outputs": [],
   "source": [
    "output_filename = os.path.join('..', '..', 'data', 'players', 'players_ids.csv')\n",
    "with open(output_filename, 'w', newline='') as output_csv_file:\n",
    "    fieldnames = ['slug', 'id_transfermarkt', 'id_sofascore']\n",
    "    csv_writer = csv.DictWriter(output_csv_file, fieldnames=fieldnames)\n",
    "    csv_writer.writeheader()\n",
    "    csv_writer.writerows(players_list)\n",
    "            "
   ],
   "metadata": {
    "collapsed": false,
    "ExecuteTime": {
     "end_time": "2023-12-04T18:21:55.207640100Z",
     "start_time": "2023-12-04T18:21:55.190995900Z"
    }
   },
   "id": "8ac38e90d38070f5"
  },
  {
   "cell_type": "code",
   "execution_count": null,
   "outputs": [],
   "source": [],
   "metadata": {
    "collapsed": false
   },
   "id": "d0a2243d47027122"
  }
 ],
 "metadata": {
  "kernelspec": {
   "display_name": "Python 3",
   "language": "python",
   "name": "python3"
  },
  "language_info": {
   "codemirror_mode": {
    "name": "ipython",
    "version": 2
   },
   "file_extension": ".py",
   "mimetype": "text/x-python",
   "name": "python",
   "nbconvert_exporter": "python",
   "pygments_lexer": "ipython2",
   "version": "2.7.6"
  }
 },
 "nbformat": 4,
 "nbformat_minor": 5
}
