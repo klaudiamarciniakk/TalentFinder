{
 "cells": [
  {
   "cell_type": "code",
   "execution_count": 41,
   "id": "initial_id",
   "metadata": {
    "collapsed": true,
    "ExecuteTime": {
     "end_time": "2023-11-19T15:03:33.259386100Z",
     "start_time": "2023-11-19T15:03:33.242880700Z"
    }
   },
   "outputs": [],
   "source": [
    "import csv\n",
    "import requests\n",
    "from unidecode import unidecode "
   ]
  },
  {
   "cell_type": "code",
   "execution_count": 44,
   "outputs": [],
   "source": [
    "headers = {\n",
    "    'authority': 'api.sofascore.com',\n",
    "    'accept': '*/*',\n",
    "    'accept-language': 'pl-PL,pl;q=0.9,en-US;q=0.8,en;q=0.7',\n",
    "    'cache-control': 'max-age=0',\n",
    "    'if-none-match': 'W/\"f810540cc3\"',\n",
    "    'origin': 'https://www.sofascore.com',\n",
    "    'referer': 'https://www.sofascore.com/',\n",
    "    'sec-ch-ua': '\"Chromium\";v=\"116\", \"Not)A;Brand\";v=\"24\", \"Opera GX\";v=\"102\"',\n",
    "    'sec-ch-ua-mobile': '?0',\n",
    "    'sec-ch-ua-platform': '\"Windows\"',\n",
    "    'sec-fetch-dest': 'empty',\n",
    "    'sec-fetch-mode': 'cors',\n",
    "    'sec-fetch-site': 'same-site',\n",
    "    'user-agent': 'Mozilla/5.0 (Windows NT 10.0; Win64; x64) AppleWebKit/537.36 (KHTML, like Gecko) Chrome/116.0.0.0 Safari/537.36 OPR/102.0.0.0'\n",
    "}\n"
   ],
   "metadata": {
    "collapsed": false,
    "ExecuteTime": {
     "end_time": "2023-11-19T15:03:35.122933Z",
     "start_time": "2023-11-19T15:03:34.984304400Z"
    }
   },
   "id": "9b6b620c2bedbb71"
  },
  {
   "cell_type": "code",
   "execution_count": 46,
   "outputs": [],
   "source": [
    "headers['If-Modified-Since'] = 'Sun, 19 Nov 2023 00:00:00 GMT'"
   ],
   "metadata": {
    "collapsed": false,
    "ExecuteTime": {
     "end_time": "2023-11-19T15:03:36.030150400Z",
     "start_time": "2023-11-19T15:03:36.018635200Z"
    }
   },
   "id": "f087e407ba4cd28"
  },
  {
   "cell_type": "code",
   "execution_count": 47,
   "outputs": [],
   "source": [
    "response = requests.get('https://api.sofascore.com/api/v1/team/114709/players', headers=headers)"
   ],
   "metadata": {
    "collapsed": false,
    "ExecuteTime": {
     "end_time": "2023-11-19T15:03:36.442784400Z",
     "start_time": "2023-11-19T15:03:36.378707300Z"
    }
   },
   "id": "1494778315a5e72f"
  },
  {
   "cell_type": "code",
   "execution_count": 48,
   "outputs": [
    {
     "data": {
      "text/plain": "<Response [200]>"
     },
     "execution_count": 48,
     "metadata": {},
     "output_type": "execute_result"
    }
   ],
   "source": [
    "response"
   ],
   "metadata": {
    "collapsed": false,
    "ExecuteTime": {
     "end_time": "2023-11-19T15:03:36.912167300Z",
     "start_time": "2023-11-19T15:03:36.888035200Z"
    }
   },
   "id": "8ba1051d9ef874d"
  },
  {
   "cell_type": "code",
   "execution_count": 49,
   "outputs": [
    {
     "data": {
      "text/plain": "{'players': [{'player': {'name': 'Mateusz Zdziarski',\n    'firstName': 'Mateusz Zdziarski',\n    'slug': 'mateusz-zdziarski',\n    'shortName': 'M. Zdziarski',\n    'team': {'name': 'Lech Poznań U19',\n     'slug': 'lech-poznan-u19',\n     'shortName': 'Lech U19',\n     'gender': 'M',\n     'sport': {'name': 'Football', 'slug': 'football', 'id': 1},\n     'tournament': {'name': 'U19 CLJ, West',\n      'slug': 'u19-clj-west',\n      'category': {'name': 'Poland',\n       'slug': 'poland',\n       'sport': {'name': 'Football', 'slug': 'football', 'id': 1},\n       'id': 47,\n       'flag': 'poland',\n       'alpha2': 'PL'},\n      'uniqueTournament': {'name': 'U19 CLJ',\n       'slug': 'u19-clj',\n       'category': {'name': 'Poland',\n        'slug': 'poland',\n        'sport': {'name': 'Football', 'slug': 'football', 'id': 1},\n        'id': 47,\n        'flag': 'poland',\n        'alpha2': 'PL'},\n       'userCount': 504,\n       'id': 1365,\n       'country': {},\n       'displayInverseHomeAwayTeams': False},\n      'priority': 0,\n      'id': 37201},\n     'primaryUniqueTournament': {'name': 'U19 CLJ',\n      'slug': 'u19-clj',\n      'category': {'name': 'Poland',\n       'slug': 'poland',\n       'sport': {'name': 'Football', 'slug': 'football', 'id': 1},\n       'id': 47,\n       'flag': 'poland',\n       'alpha2': 'PL'},\n      'userCount': 504,\n      'id': 1365,\n      'country': {},\n      'displayInverseHomeAwayTeams': False},\n     'userCount': 1022,\n     'nameCode': 'LPO',\n     'disabled': False,\n     'national': False,\n     'type': 0,\n     'id': 114709,\n     'country': {'alpha2': 'PL', 'name': 'Poland'},\n     'teamColors': {'primary': '#004b93',\n      'secondary': '#ffffff',\n      'text': '#ffffff'}},\n    'position': 'F',\n    'jerseyNumber': '18',\n    'userCount': 1,\n    'id': 1562112,\n    'country': {'alpha2': 'PL', 'name': 'Poland'},\n    'shirtNumber': 18}},\n  {'player': {'name': 'Igor Stankiewicz',\n    'firstName': 'Igor Stankiewicz',\n    'slug': 'igor-stankiewicz',\n    'shortName': 'I. Stankiewicz',\n    'team': {'name': 'Lech Poznań U19',\n     'slug': 'lech-poznan-u19',\n     'shortName': 'Lech U19',\n     'gender': 'M',\n     'sport': {'name': 'Football', 'slug': 'football', 'id': 1},\n     'tournament': {'name': 'U19 CLJ, West',\n      'slug': 'u19-clj-west',\n      'category': {'name': 'Poland',\n       'slug': 'poland',\n       'sport': {'name': 'Football', 'slug': 'football', 'id': 1},\n       'id': 47,\n       'flag': 'poland',\n       'alpha2': 'PL'},\n      'uniqueTournament': {'name': 'U19 CLJ',\n       'slug': 'u19-clj',\n       'category': {'name': 'Poland',\n        'slug': 'poland',\n        'sport': {'name': 'Football', 'slug': 'football', 'id': 1},\n        'id': 47,\n        'flag': 'poland',\n        'alpha2': 'PL'},\n       'userCount': 504,\n       'id': 1365,\n       'country': {},\n       'displayInverseHomeAwayTeams': False},\n      'priority': 0,\n      'id': 37201},\n     'primaryUniqueTournament': {'name': 'U19 CLJ',\n      'slug': 'u19-clj',\n      'category': {'name': 'Poland',\n       'slug': 'poland',\n       'sport': {'name': 'Football', 'slug': 'football', 'id': 1},\n       'id': 47,\n       'flag': 'poland',\n       'alpha2': 'PL'},\n      'userCount': 504,\n      'id': 1365,\n      'country': {},\n      'displayInverseHomeAwayTeams': False},\n     'userCount': 1022,\n     'nameCode': 'LPO',\n     'disabled': False,\n     'national': False,\n     'type': 0,\n     'id': 114709,\n     'country': {'alpha2': 'PL', 'name': 'Poland'},\n     'teamColors': {'primary': '#004b93',\n      'secondary': '#ffffff',\n      'text': '#ffffff'}},\n    'position': 'M',\n    'userCount': 4,\n    'id': 1562093,\n    'country': {'alpha2': 'PL', 'name': 'Poland'},\n    'dateOfBirthTimestamp': 1182297600}},\n  {'player': {'name': 'Igor Draszczyk',\n    'firstName': 'Igor Draszczyk',\n    'slug': 'igor-draszczyk',\n    'shortName': 'I. Draszczyk',\n    'team': {'name': 'Lech Poznań U19',\n     'slug': 'lech-poznan-u19',\n     'shortName': 'Lech U19',\n     'gender': 'M',\n     'sport': {'name': 'Football', 'slug': 'football', 'id': 1},\n     'tournament': {'name': 'U19 CLJ, West',\n      'slug': 'u19-clj-west',\n      'category': {'name': 'Poland',\n       'slug': 'poland',\n       'sport': {'name': 'Football', 'slug': 'football', 'id': 1},\n       'id': 47,\n       'flag': 'poland',\n       'alpha2': 'PL'},\n      'uniqueTournament': {'name': 'U19 CLJ',\n       'slug': 'u19-clj',\n       'category': {'name': 'Poland',\n        'slug': 'poland',\n        'sport': {'name': 'Football', 'slug': 'football', 'id': 1},\n        'id': 47,\n        'flag': 'poland',\n        'alpha2': 'PL'},\n       'userCount': 504,\n       'id': 1365,\n       'country': {},\n       'displayInverseHomeAwayTeams': False},\n      'priority': 0,\n      'id': 37201},\n     'primaryUniqueTournament': {'name': 'U19 CLJ',\n      'slug': 'u19-clj',\n      'category': {'name': 'Poland',\n       'slug': 'poland',\n       'sport': {'name': 'Football', 'slug': 'football', 'id': 1},\n       'id': 47,\n       'flag': 'poland',\n       'alpha2': 'PL'},\n      'userCount': 504,\n      'id': 1365,\n      'country': {},\n      'displayInverseHomeAwayTeams': False},\n     'userCount': 1022,\n     'nameCode': 'LPO',\n     'disabled': False,\n     'national': False,\n     'type': 0,\n     'id': 114709,\n     'country': {'alpha2': 'PL', 'name': 'Poland'},\n     'teamColors': {'primary': '#004b93',\n      'secondary': '#ffffff',\n      'text': '#ffffff'}},\n    'position': 'M',\n    'userCount': 2,\n    'id': 1562092,\n    'country': {'alpha2': 'PL', 'name': 'Poland'},\n    'dateOfBirthTimestamp': 1172707200}},\n  {'player': {'name': 'Sammy Dudek',\n    'firstName': 'Sammy Dudek',\n    'slug': 'sammy-dudek',\n    'shortName': 'S. Dudek',\n    'team': {'name': 'Lech Poznań U19',\n     'slug': 'lech-poznan-u19',\n     'shortName': 'Lech U19',\n     'gender': 'M',\n     'sport': {'name': 'Football', 'slug': 'football', 'id': 1},\n     'tournament': {'name': 'U19 CLJ, West',\n      'slug': 'u19-clj-west',\n      'category': {'name': 'Poland',\n       'slug': 'poland',\n       'sport': {'name': 'Football', 'slug': 'football', 'id': 1},\n       'id': 47,\n       'flag': 'poland',\n       'alpha2': 'PL'},\n      'uniqueTournament': {'name': 'U19 CLJ',\n       'slug': 'u19-clj',\n       'category': {'name': 'Poland',\n        'slug': 'poland',\n        'sport': {'name': 'Football', 'slug': 'football', 'id': 1},\n        'id': 47,\n        'flag': 'poland',\n        'alpha2': 'PL'},\n       'userCount': 504,\n       'id': 1365,\n       'country': {},\n       'displayInverseHomeAwayTeams': False},\n      'priority': 0,\n      'id': 37201},\n     'primaryUniqueTournament': {'name': 'U19 CLJ',\n      'slug': 'u19-clj',\n      'category': {'name': 'Poland',\n       'slug': 'poland',\n       'sport': {'name': 'Football', 'slug': 'football', 'id': 1},\n       'id': 47,\n       'flag': 'poland',\n       'alpha2': 'PL'},\n      'userCount': 504,\n      'id': 1365,\n      'country': {},\n      'displayInverseHomeAwayTeams': False},\n     'userCount': 1022,\n     'nameCode': 'LPO',\n     'disabled': False,\n     'national': False,\n     'type': 0,\n     'id': 114709,\n     'country': {'alpha2': 'PL', 'name': 'Poland'},\n     'teamColors': {'primary': '#004b93',\n      'secondary': '#ffffff',\n      'text': '#ffffff'}},\n    'position': 'M',\n    'userCount': 2,\n    'id': 1562118,\n    'country': {'alpha2': 'PL', 'name': 'Poland'},\n    'dateOfBirthTimestamp': 1208476800}},\n  {'player': {'name': 'Artur Lawrynowicz',\n    'firstName': 'Artur Lawrynowicz',\n    'slug': 'artur-lawrynowicz',\n    'shortName': 'A. Lawrynowicz',\n    'team': {'name': 'Lech Poznań U19',\n     'slug': 'lech-poznan-u19',\n     'shortName': 'Lech U19',\n     'gender': 'M',\n     'sport': {'name': 'Football', 'slug': 'football', 'id': 1},\n     'tournament': {'name': 'U19 CLJ, West',\n      'slug': 'u19-clj-west',\n      'category': {'name': 'Poland',\n       'slug': 'poland',\n       'sport': {'name': 'Football', 'slug': 'football', 'id': 1},\n       'id': 47,\n       'flag': 'poland',\n       'alpha2': 'PL'},\n      'uniqueTournament': {'name': 'U19 CLJ',\n       'slug': 'u19-clj',\n       'category': {'name': 'Poland',\n        'slug': 'poland',\n        'sport': {'name': 'Football', 'slug': 'football', 'id': 1},\n        'id': 47,\n        'flag': 'poland',\n        'alpha2': 'PL'},\n       'userCount': 504,\n       'id': 1365,\n       'country': {},\n       'displayInverseHomeAwayTeams': False},\n      'priority': 0,\n      'id': 37201},\n     'primaryUniqueTournament': {'name': 'U19 CLJ',\n      'slug': 'u19-clj',\n      'category': {'name': 'Poland',\n       'slug': 'poland',\n       'sport': {'name': 'Football', 'slug': 'football', 'id': 1},\n       'id': 47,\n       'flag': 'poland',\n       'alpha2': 'PL'},\n      'userCount': 504,\n      'id': 1365,\n      'country': {},\n      'displayInverseHomeAwayTeams': False},\n     'userCount': 1022,\n     'nameCode': 'LPO',\n     'disabled': False,\n     'national': False,\n     'type': 0,\n     'id': 114709,\n     'country': {'alpha2': 'PL', 'name': 'Poland'},\n     'teamColors': {'primary': '#004b93',\n      'secondary': '#ffffff',\n      'text': '#ffffff'}},\n    'position': 'M',\n    'userCount': 1,\n    'id': 1562088,\n    'country': {'alpha2': 'PL', 'name': 'Poland'}}},\n  {'player': {'name': 'Daniel Chejdysz',\n    'firstName': 'Daniel Chejdysz',\n    'slug': 'daniel-chejdysz',\n    'shortName': 'D. Chejdysz',\n    'team': {'name': 'Lech Poznań U19',\n     'slug': 'lech-poznan-u19',\n     'shortName': 'Lech U19',\n     'gender': 'M',\n     'sport': {'name': 'Football', 'slug': 'football', 'id': 1},\n     'tournament': {'name': 'U19 CLJ, West',\n      'slug': 'u19-clj-west',\n      'category': {'name': 'Poland',\n       'slug': 'poland',\n       'sport': {'name': 'Football', 'slug': 'football', 'id': 1},\n       'id': 47,\n       'flag': 'poland',\n       'alpha2': 'PL'},\n      'uniqueTournament': {'name': 'U19 CLJ',\n       'slug': 'u19-clj',\n       'category': {'name': 'Poland',\n        'slug': 'poland',\n        'sport': {'name': 'Football', 'slug': 'football', 'id': 1},\n        'id': 47,\n        'flag': 'poland',\n        'alpha2': 'PL'},\n       'userCount': 504,\n       'id': 1365,\n       'country': {},\n       'displayInverseHomeAwayTeams': False},\n      'priority': 0,\n      'id': 37201},\n     'primaryUniqueTournament': {'name': 'U19 CLJ',\n      'slug': 'u19-clj',\n      'category': {'name': 'Poland',\n       'slug': 'poland',\n       'sport': {'name': 'Football', 'slug': 'football', 'id': 1},\n       'id': 47,\n       'flag': 'poland',\n       'alpha2': 'PL'},\n      'userCount': 504,\n      'id': 1365,\n      'country': {},\n      'displayInverseHomeAwayTeams': False},\n     'userCount': 1022,\n     'nameCode': 'LPO',\n     'disabled': False,\n     'national': False,\n     'type': 0,\n     'id': 114709,\n     'country': {'alpha2': 'PL', 'name': 'Poland'},\n     'teamColors': {'primary': '#004b93',\n      'secondary': '#ffffff',\n      'text': '#ffffff'}},\n    'position': 'M',\n    'userCount': 1,\n    'id': 1562090,\n    'country': {'alpha2': 'PL', 'name': 'Poland'},\n    'dateOfBirthTimestamp': 1187395200}},\n  {'player': {'name': 'Filip Warciarek',\n    'firstName': 'Filip Warciarek',\n    'slug': 'filip-warciarek',\n    'shortName': 'F. Warciarek',\n    'team': {'name': 'Lech Poznań U19',\n     'slug': 'lech-poznan-u19',\n     'shortName': 'Lech U19',\n     'gender': 'M',\n     'sport': {'name': 'Football', 'slug': 'football', 'id': 1},\n     'tournament': {'name': 'U19 CLJ, West',\n      'slug': 'u19-clj-west',\n      'category': {'name': 'Poland',\n       'slug': 'poland',\n       'sport': {'name': 'Football', 'slug': 'football', 'id': 1},\n       'id': 47,\n       'flag': 'poland',\n       'alpha2': 'PL'},\n      'uniqueTournament': {'name': 'U19 CLJ',\n       'slug': 'u19-clj',\n       'category': {'name': 'Poland',\n        'slug': 'poland',\n        'sport': {'name': 'Football', 'slug': 'football', 'id': 1},\n        'id': 47,\n        'flag': 'poland',\n        'alpha2': 'PL'},\n       'userCount': 504,\n       'id': 1365,\n       'country': {},\n       'displayInverseHomeAwayTeams': False},\n      'priority': 0,\n      'id': 37201},\n     'primaryUniqueTournament': {'name': 'U19 CLJ',\n      'slug': 'u19-clj',\n      'category': {'name': 'Poland',\n       'slug': 'poland',\n       'sport': {'name': 'Football', 'slug': 'football', 'id': 1},\n       'id': 47,\n       'flag': 'poland',\n       'alpha2': 'PL'},\n      'userCount': 504,\n      'id': 1365,\n      'country': {},\n      'displayInverseHomeAwayTeams': False},\n     'userCount': 1022,\n     'nameCode': 'LPO',\n     'disabled': False,\n     'national': False,\n     'type': 0,\n     'id': 114709,\n     'country': {'alpha2': 'PL', 'name': 'Poland'},\n     'teamColors': {'primary': '#004b93',\n      'secondary': '#ffffff',\n      'text': '#ffffff'}},\n    'position': 'M',\n    'userCount': 1,\n    'id': 1562091,\n    'country': {'alpha2': 'PL', 'name': 'Poland'},\n    'dateOfBirthTimestamp': 1143244800}},\n  {'player': {'name': 'Kajetan Nowak',\n    'firstName': 'Kajetan Nowak',\n    'slug': 'kajetan-nowak',\n    'shortName': 'K. Nowak',\n    'team': {'name': 'Lech Poznań U19',\n     'slug': 'lech-poznan-u19',\n     'shortName': 'Lech U19',\n     'gender': 'M',\n     'sport': {'name': 'Football', 'slug': 'football', 'id': 1},\n     'tournament': {'name': 'U19 CLJ, West',\n      'slug': 'u19-clj-west',\n      'category': {'name': 'Poland',\n       'slug': 'poland',\n       'sport': {'name': 'Football', 'slug': 'football', 'id': 1},\n       'id': 47,\n       'flag': 'poland',\n       'alpha2': 'PL'},\n      'uniqueTournament': {'name': 'U19 CLJ',\n       'slug': 'u19-clj',\n       'category': {'name': 'Poland',\n        'slug': 'poland',\n        'sport': {'name': 'Football', 'slug': 'football', 'id': 1},\n        'id': 47,\n        'flag': 'poland',\n        'alpha2': 'PL'},\n       'userCount': 504,\n       'id': 1365,\n       'country': {},\n       'displayInverseHomeAwayTeams': False},\n      'priority': 0,\n      'id': 37201},\n     'primaryUniqueTournament': {'name': 'U19 CLJ',\n      'slug': 'u19-clj',\n      'category': {'name': 'Poland',\n       'slug': 'poland',\n       'sport': {'name': 'Football', 'slug': 'football', 'id': 1},\n       'id': 47,\n       'flag': 'poland',\n       'alpha2': 'PL'},\n      'userCount': 504,\n      'id': 1365,\n      'country': {},\n      'displayInverseHomeAwayTeams': False},\n     'userCount': 1022,\n     'nameCode': 'LPO',\n     'disabled': False,\n     'national': False,\n     'type': 0,\n     'id': 114709,\n     'country': {'alpha2': 'PL', 'name': 'Poland'},\n     'teamColors': {'primary': '#004b93',\n      'secondary': '#ffffff',\n      'text': '#ffffff'}},\n    'position': 'M',\n    'userCount': 1,\n    'id': 1562106,\n    'country': {'alpha2': 'PL', 'name': 'Poland'},\n    'dateOfBirthTimestamp': 1162944000}},\n  {'player': {'name': 'Nikodem Stachowicz',\n    'firstName': 'Nikodem Stachowicz',\n    'slug': 'nikodem-stachowicz',\n    'shortName': 'N. Stachowicz',\n    'team': {'name': 'Lech Poznań U19',\n     'slug': 'lech-poznan-u19',\n     'shortName': 'Lech U19',\n     'gender': 'M',\n     'sport': {'name': 'Football', 'slug': 'football', 'id': 1},\n     'tournament': {'name': 'U19 CLJ, West',\n      'slug': 'u19-clj-west',\n      'category': {'name': 'Poland',\n       'slug': 'poland',\n       'sport': {'name': 'Football', 'slug': 'football', 'id': 1},\n       'id': 47,\n       'flag': 'poland',\n       'alpha2': 'PL'},\n      'uniqueTournament': {'name': 'U19 CLJ',\n       'slug': 'u19-clj',\n       'category': {'name': 'Poland',\n        'slug': 'poland',\n        'sport': {'name': 'Football', 'slug': 'football', 'id': 1},\n        'id': 47,\n        'flag': 'poland',\n        'alpha2': 'PL'},\n       'userCount': 504,\n       'id': 1365,\n       'country': {},\n       'displayInverseHomeAwayTeams': False},\n      'priority': 0,\n      'id': 37201},\n     'primaryUniqueTournament': {'name': 'U19 CLJ',\n      'slug': 'u19-clj',\n      'category': {'name': 'Poland',\n       'slug': 'poland',\n       'sport': {'name': 'Football', 'slug': 'football', 'id': 1},\n       'id': 47,\n       'flag': 'poland',\n       'alpha2': 'PL'},\n      'userCount': 504,\n      'id': 1365,\n      'country': {},\n      'displayInverseHomeAwayTeams': False},\n     'userCount': 1022,\n     'nameCode': 'LPO',\n     'disabled': False,\n     'national': False,\n     'type': 0,\n     'id': 114709,\n     'country': {'alpha2': 'PL', 'name': 'Poland'},\n     'teamColors': {'primary': '#004b93',\n      'secondary': '#ffffff',\n      'text': '#ffffff'}},\n    'position': 'M',\n    'height': 175,\n    'preferredFoot': 'Right',\n    'userCount': 1,\n    'id': 1562115,\n    'country': {'alpha2': 'PL', 'name': 'Poland'},\n    'dateOfBirthTimestamp': 1141516800,\n    'contractUntilTimestamp': 1703980800}},\n  {'player': {'name': 'Jakub Przebierala',\n    'firstName': 'Jakub Przebierala',\n    'slug': 'jakub-przebierala',\n    'shortName': 'J. Przebierala',\n    'team': {'name': 'Lech Poznań U19',\n     'slug': 'lech-poznan-u19',\n     'shortName': 'Lech U19',\n     'gender': 'M',\n     'sport': {'name': 'Football', 'slug': 'football', 'id': 1},\n     'tournament': {'name': 'U19 CLJ, West',\n      'slug': 'u19-clj-west',\n      'category': {'name': 'Poland',\n       'slug': 'poland',\n       'sport': {'name': 'Football', 'slug': 'football', 'id': 1},\n       'id': 47,\n       'flag': 'poland',\n       'alpha2': 'PL'},\n      'uniqueTournament': {'name': 'U19 CLJ',\n       'slug': 'u19-clj',\n       'category': {'name': 'Poland',\n        'slug': 'poland',\n        'sport': {'name': 'Football', 'slug': 'football', 'id': 1},\n        'id': 47,\n        'flag': 'poland',\n        'alpha2': 'PL'},\n       'userCount': 504,\n       'id': 1365,\n       'country': {},\n       'displayInverseHomeAwayTeams': False},\n      'priority': 0,\n      'id': 37201},\n     'primaryUniqueTournament': {'name': 'U19 CLJ',\n      'slug': 'u19-clj',\n      'category': {'name': 'Poland',\n       'slug': 'poland',\n       'sport': {'name': 'Football', 'slug': 'football', 'id': 1},\n       'id': 47,\n       'flag': 'poland',\n       'alpha2': 'PL'},\n      'userCount': 504,\n      'id': 1365,\n      'country': {},\n      'displayInverseHomeAwayTeams': False},\n     'userCount': 1022,\n     'nameCode': 'LPO',\n     'disabled': False,\n     'national': False,\n     'type': 0,\n     'id': 114709,\n     'country': {'alpha2': 'PL', 'name': 'Poland'},\n     'teamColors': {'primary': '#004b93',\n      'secondary': '#ffffff',\n      'text': '#ffffff'}},\n    'position': 'M',\n    'userCount': 0,\n    'id': 1562095,\n    'country': {'alpha2': 'PL', 'name': 'Poland'},\n    'dateOfBirthTimestamp': 1179532800}},\n  {'player': {'name': 'Damian Sokolowski',\n    'firstName': 'Damian Sokolowski',\n    'slug': 'damian-sokolowski',\n    'shortName': 'D. Sokolowski',\n    'team': {'name': 'Lech Poznań U19',\n     'slug': 'lech-poznan-u19',\n     'shortName': 'Lech U19',\n     'gender': 'M',\n     'sport': {'name': 'Football', 'slug': 'football', 'id': 1},\n     'tournament': {'name': 'U19 CLJ, West',\n      'slug': 'u19-clj-west',\n      'category': {'name': 'Poland',\n       'slug': 'poland',\n       'sport': {'name': 'Football', 'slug': 'football', 'id': 1},\n       'id': 47,\n       'flag': 'poland',\n       'alpha2': 'PL'},\n      'uniqueTournament': {'name': 'U19 CLJ',\n       'slug': 'u19-clj',\n       'category': {'name': 'Poland',\n        'slug': 'poland',\n        'sport': {'name': 'Football', 'slug': 'football', 'id': 1},\n        'id': 47,\n        'flag': 'poland',\n        'alpha2': 'PL'},\n       'userCount': 504,\n       'id': 1365,\n       'country': {},\n       'displayInverseHomeAwayTeams': False},\n      'priority': 0,\n      'id': 37201},\n     'primaryUniqueTournament': {'name': 'U19 CLJ',\n      'slug': 'u19-clj',\n      'category': {'name': 'Poland',\n       'slug': 'poland',\n       'sport': {'name': 'Football', 'slug': 'football', 'id': 1},\n       'id': 47,\n       'flag': 'poland',\n       'alpha2': 'PL'},\n      'userCount': 504,\n      'id': 1365,\n      'country': {},\n      'displayInverseHomeAwayTeams': False},\n     'userCount': 1022,\n     'nameCode': 'LPO',\n     'disabled': False,\n     'national': False,\n     'type': 0,\n     'id': 114709,\n     'country': {'alpha2': 'PL', 'name': 'Poland'},\n     'teamColors': {'primary': '#004b93',\n      'secondary': '#ffffff',\n      'text': '#ffffff'}},\n    'position': 'D',\n    'userCount': 1,\n    'id': 1562089,\n    'country': {'alpha2': 'PL', 'name': 'Poland'},\n    'dateOfBirthTimestamp': 1171756800}},\n  {'player': {'name': 'Jakub Skowronski',\n    'firstName': 'Jakub Skowronski',\n    'slug': 'jakub-skowronski',\n    'shortName': 'J. Skowronski',\n    'team': {'name': 'Lech Poznań U19',\n     'slug': 'lech-poznan-u19',\n     'shortName': 'Lech U19',\n     'gender': 'M',\n     'sport': {'name': 'Football', 'slug': 'football', 'id': 1},\n     'tournament': {'name': 'U19 CLJ, West',\n      'slug': 'u19-clj-west',\n      'category': {'name': 'Poland',\n       'slug': 'poland',\n       'sport': {'name': 'Football', 'slug': 'football', 'id': 1},\n       'id': 47,\n       'flag': 'poland',\n       'alpha2': 'PL'},\n      'uniqueTournament': {'name': 'U19 CLJ',\n       'slug': 'u19-clj',\n       'category': {'name': 'Poland',\n        'slug': 'poland',\n        'sport': {'name': 'Football', 'slug': 'football', 'id': 1},\n        'id': 47,\n        'flag': 'poland',\n        'alpha2': 'PL'},\n       'userCount': 504,\n       'id': 1365,\n       'country': {},\n       'displayInverseHomeAwayTeams': False},\n      'priority': 0,\n      'id': 37201},\n     'primaryUniqueTournament': {'name': 'U19 CLJ',\n      'slug': 'u19-clj',\n      'category': {'name': 'Poland',\n       'slug': 'poland',\n       'sport': {'name': 'Football', 'slug': 'football', 'id': 1},\n       'id': 47,\n       'flag': 'poland',\n       'alpha2': 'PL'},\n      'userCount': 504,\n      'id': 1365,\n      'country': {},\n      'displayInverseHomeAwayTeams': False},\n     'userCount': 1022,\n     'nameCode': 'LPO',\n     'disabled': False,\n     'national': False,\n     'type': 0,\n     'id': 114709,\n     'country': {'alpha2': 'PL', 'name': 'Poland'},\n     'teamColors': {'primary': '#004b93',\n      'secondary': '#ffffff',\n      'text': '#ffffff'}},\n    'position': 'D',\n    'userCount': 1,\n    'id': 1562096,\n    'country': {'alpha2': 'PL', 'name': 'Poland'},\n    'dateOfBirthTimestamp': 1140048000}},\n  {'player': {'name': 'Kacper Wolowiec',\n    'firstName': 'Kacper Wolowiec',\n    'slug': 'kacper-wolowiec',\n    'shortName': 'K. Wolowiec',\n    'team': {'name': 'Lech Poznań U19',\n     'slug': 'lech-poznan-u19',\n     'shortName': 'Lech U19',\n     'gender': 'M',\n     'sport': {'name': 'Football', 'slug': 'football', 'id': 1},\n     'tournament': {'name': 'U19 CLJ, West',\n      'slug': 'u19-clj-west',\n      'category': {'name': 'Poland',\n       'slug': 'poland',\n       'sport': {'name': 'Football', 'slug': 'football', 'id': 1},\n       'id': 47,\n       'flag': 'poland',\n       'alpha2': 'PL'},\n      'uniqueTournament': {'name': 'U19 CLJ',\n       'slug': 'u19-clj',\n       'category': {'name': 'Poland',\n        'slug': 'poland',\n        'sport': {'name': 'Football', 'slug': 'football', 'id': 1},\n        'id': 47,\n        'flag': 'poland',\n        'alpha2': 'PL'},\n       'userCount': 504,\n       'id': 1365,\n       'country': {},\n       'displayInverseHomeAwayTeams': False},\n      'priority': 0,\n      'id': 37201},\n     'primaryUniqueTournament': {'name': 'U19 CLJ',\n      'slug': 'u19-clj',\n      'category': {'name': 'Poland',\n       'slug': 'poland',\n       'sport': {'name': 'Football', 'slug': 'football', 'id': 1},\n       'id': 47,\n       'flag': 'poland',\n       'alpha2': 'PL'},\n      'userCount': 504,\n      'id': 1365,\n      'country': {},\n      'displayInverseHomeAwayTeams': False},\n     'userCount': 1022,\n     'nameCode': 'LPO',\n     'disabled': False,\n     'national': False,\n     'type': 0,\n     'id': 114709,\n     'country': {'alpha2': 'PL', 'name': 'Poland'},\n     'teamColors': {'primary': '#004b93',\n      'secondary': '#ffffff',\n      'text': '#ffffff'}},\n    'position': 'D',\n    'height': 187,\n    'userCount': 1,\n    'id': 1562103,\n    'country': {'alpha2': 'PL', 'name': 'Poland'},\n    'dateOfBirthTimestamp': 1192406400}},\n  {'player': {'name': 'Matsvei Bakhno',\n    'firstName': 'Matsvei Bakhno',\n    'slug': 'matsvei-bakhno',\n    'shortName': 'M. Bakhno',\n    'team': {'name': 'Lech Poznań U19',\n     'slug': 'lech-poznan-u19',\n     'shortName': 'Lech U19',\n     'gender': 'M',\n     'sport': {'name': 'Football', 'slug': 'football', 'id': 1},\n     'tournament': {'name': 'U19 CLJ, West',\n      'slug': 'u19-clj-west',\n      'category': {'name': 'Poland',\n       'slug': 'poland',\n       'sport': {'name': 'Football', 'slug': 'football', 'id': 1},\n       'id': 47,\n       'flag': 'poland',\n       'alpha2': 'PL'},\n      'uniqueTournament': {'name': 'U19 CLJ',\n       'slug': 'u19-clj',\n       'category': {'name': 'Poland',\n        'slug': 'poland',\n        'sport': {'name': 'Football', 'slug': 'football', 'id': 1},\n        'id': 47,\n        'flag': 'poland',\n        'alpha2': 'PL'},\n       'userCount': 504,\n       'id': 1365,\n       'country': {},\n       'displayInverseHomeAwayTeams': False},\n      'priority': 0,\n      'id': 37201},\n     'primaryUniqueTournament': {'name': 'U19 CLJ',\n      'slug': 'u19-clj',\n      'category': {'name': 'Poland',\n       'slug': 'poland',\n       'sport': {'name': 'Football', 'slug': 'football', 'id': 1},\n       'id': 47,\n       'flag': 'poland',\n       'alpha2': 'PL'},\n      'userCount': 504,\n      'id': 1365,\n      'country': {},\n      'displayInverseHomeAwayTeams': False},\n     'userCount': 1022,\n     'nameCode': 'LPO',\n     'disabled': False,\n     'national': False,\n     'type': 0,\n     'id': 114709,\n     'country': {'alpha2': 'PL', 'name': 'Poland'},\n     'teamColors': {'primary': '#004b93',\n      'secondary': '#ffffff',\n      'text': '#ffffff'}},\n    'position': 'D',\n    'userCount': 1,\n    'id': 1562114,\n    'country': {'alpha2': 'BY', 'name': 'Belarus'},\n    'dateOfBirthTimestamp': 1192320000}},\n  {'player': {'name': 'Wojciech Monka',\n    'firstName': 'Wojciech Monka',\n    'slug': 'wojciech-monka',\n    'shortName': 'W. Monka',\n    'team': {'name': 'Lech Poznań U19',\n     'slug': 'lech-poznan-u19',\n     'shortName': 'Lech U19',\n     'gender': 'M',\n     'sport': {'name': 'Football', 'slug': 'football', 'id': 1},\n     'tournament': {'name': 'U19 CLJ, West',\n      'slug': 'u19-clj-west',\n      'category': {'name': 'Poland',\n       'slug': 'poland',\n       'sport': {'name': 'Football', 'slug': 'football', 'id': 1},\n       'id': 47,\n       'flag': 'poland',\n       'alpha2': 'PL'},\n      'uniqueTournament': {'name': 'U19 CLJ',\n       'slug': 'u19-clj',\n       'category': {'name': 'Poland',\n        'slug': 'poland',\n        'sport': {'name': 'Football', 'slug': 'football', 'id': 1},\n        'id': 47,\n        'flag': 'poland',\n        'alpha2': 'PL'},\n       'userCount': 504,\n       'id': 1365,\n       'country': {},\n       'displayInverseHomeAwayTeams': False},\n      'priority': 0,\n      'id': 37201},\n     'primaryUniqueTournament': {'name': 'U19 CLJ',\n      'slug': 'u19-clj',\n      'category': {'name': 'Poland',\n       'slug': 'poland',\n       'sport': {'name': 'Football', 'slug': 'football', 'id': 1},\n       'id': 47,\n       'flag': 'poland',\n       'alpha2': 'PL'},\n      'userCount': 504,\n      'id': 1365,\n      'country': {},\n      'displayInverseHomeAwayTeams': False},\n     'userCount': 1022,\n     'nameCode': 'LPO',\n     'disabled': False,\n     'national': False,\n     'type': 0,\n     'id': 114709,\n     'country': {'alpha2': 'PL', 'name': 'Poland'},\n     'teamColors': {'primary': '#004b93',\n      'secondary': '#ffffff',\n      'text': '#ffffff'}},\n    'position': 'D',\n    'userCount': 1,\n    'id': 1562120,\n    'country': {'alpha2': 'PL', 'name': 'Poland'},\n    'dateOfBirthTimestamp': 1169078400}},\n  {'player': {'name': 'Jakub Falkiewicz',\n    'firstName': 'Jakub Falkiewicz',\n    'slug': 'jakub-falkiewicz',\n    'shortName': 'J. Falkiewicz',\n    'team': {'name': 'Lech Poznań U19',\n     'slug': 'lech-poznan-u19',\n     'shortName': 'Lech U19',\n     'gender': 'M',\n     'sport': {'name': 'Football', 'slug': 'football', 'id': 1},\n     'tournament': {'name': 'U19 CLJ, West',\n      'slug': 'u19-clj-west',\n      'category': {'name': 'Poland',\n       'slug': 'poland',\n       'sport': {'name': 'Football', 'slug': 'football', 'id': 1},\n       'id': 47,\n       'flag': 'poland',\n       'alpha2': 'PL'},\n      'uniqueTournament': {'name': 'U19 CLJ',\n       'slug': 'u19-clj',\n       'category': {'name': 'Poland',\n        'slug': 'poland',\n        'sport': {'name': 'Football', 'slug': 'football', 'id': 1},\n        'id': 47,\n        'flag': 'poland',\n        'alpha2': 'PL'},\n       'userCount': 504,\n       'id': 1365,\n       'country': {},\n       'displayInverseHomeAwayTeams': False},\n      'priority': 0,\n      'id': 37201},\n     'primaryUniqueTournament': {'name': 'U19 CLJ',\n      'slug': 'u19-clj',\n      'category': {'name': 'Poland',\n       'slug': 'poland',\n       'sport': {'name': 'Football', 'slug': 'football', 'id': 1},\n       'id': 47,\n       'flag': 'poland',\n       'alpha2': 'PL'},\n      'userCount': 504,\n      'id': 1365,\n      'country': {},\n      'displayInverseHomeAwayTeams': False},\n     'userCount': 1022,\n     'nameCode': 'LPO',\n     'disabled': False,\n     'national': False,\n     'type': 0,\n     'id': 114709,\n     'country': {'alpha2': 'PL', 'name': 'Poland'},\n     'teamColors': {'primary': '#004b93',\n      'secondary': '#ffffff',\n      'text': '#ffffff'}},\n    'position': 'D',\n    'userCount': 0,\n    'id': 1562094,\n    'country': {'alpha2': 'PL', 'name': 'Poland'}}},\n  {'player': {'name': 'Konrad Kaczmarek',\n    'firstName': 'Konrad Kaczmarek',\n    'slug': 'konrad-kaczmarek',\n    'shortName': 'K. Kaczmarek',\n    'team': {'name': 'Lech Poznań U19',\n     'slug': 'lech-poznan-u19',\n     'shortName': 'Lech U19',\n     'gender': 'M',\n     'sport': {'name': 'Football', 'slug': 'football', 'id': 1},\n     'tournament': {'name': 'U19 CLJ, West',\n      'slug': 'u19-clj-west',\n      'category': {'name': 'Poland',\n       'slug': 'poland',\n       'sport': {'name': 'Football', 'slug': 'football', 'id': 1},\n       'id': 47,\n       'flag': 'poland',\n       'alpha2': 'PL'},\n      'uniqueTournament': {'name': 'U19 CLJ',\n       'slug': 'u19-clj',\n       'category': {'name': 'Poland',\n        'slug': 'poland',\n        'sport': {'name': 'Football', 'slug': 'football', 'id': 1},\n        'id': 47,\n        'flag': 'poland',\n        'alpha2': 'PL'},\n       'userCount': 504,\n       'id': 1365,\n       'country': {},\n       'displayInverseHomeAwayTeams': False},\n      'priority': 0,\n      'id': 37201},\n     'primaryUniqueTournament': {'name': 'U19 CLJ',\n      'slug': 'u19-clj',\n      'category': {'name': 'Poland',\n       'slug': 'poland',\n       'sport': {'name': 'Football', 'slug': 'football', 'id': 1},\n       'id': 47,\n       'flag': 'poland',\n       'alpha2': 'PL'},\n      'userCount': 504,\n      'id': 1365,\n      'country': {},\n      'displayInverseHomeAwayTeams': False},\n     'userCount': 1022,\n     'nameCode': 'LPO',\n     'disabled': False,\n     'national': False,\n     'type': 0,\n     'id': 114709,\n     'country': {'alpha2': 'PL', 'name': 'Poland'},\n     'teamColors': {'primary': '#004b93',\n      'secondary': '#ffffff',\n      'text': '#ffffff'}},\n    'position': 'G',\n    'userCount': 1,\n    'id': 1562070,\n    'country': {'alpha2': 'PL', 'name': 'Poland'},\n    'dateOfBirthTimestamp': 1150588800,\n    'contractUntilTimestamp': 1767139200}},\n  {'player': {'name': 'Alan Dyguda',\n    'firstName': 'Alan Dyguda',\n    'slug': 'alan-dyguda',\n    'shortName': 'A. Dyguda',\n    'team': {'name': 'Lech Poznań U19',\n     'slug': 'lech-poznan-u19',\n     'shortName': 'Lech U19',\n     'gender': 'M',\n     'sport': {'name': 'Football', 'slug': 'football', 'id': 1},\n     'tournament': {'name': 'U19 CLJ, West',\n      'slug': 'u19-clj-west',\n      'category': {'name': 'Poland',\n       'slug': 'poland',\n       'sport': {'name': 'Football', 'slug': 'football', 'id': 1},\n       'id': 47,\n       'flag': 'poland',\n       'alpha2': 'PL'},\n      'uniqueTournament': {'name': 'U19 CLJ',\n       'slug': 'u19-clj',\n       'category': {'name': 'Poland',\n        'slug': 'poland',\n        'sport': {'name': 'Football', 'slug': 'football', 'id': 1},\n        'id': 47,\n        'flag': 'poland',\n        'alpha2': 'PL'},\n       'userCount': 504,\n       'id': 1365,\n       'country': {},\n       'displayInverseHomeAwayTeams': False},\n      'priority': 0,\n      'id': 37201},\n     'primaryUniqueTournament': {'name': 'U19 CLJ',\n      'slug': 'u19-clj',\n      'category': {'name': 'Poland',\n       'slug': 'poland',\n       'sport': {'name': 'Football', 'slug': 'football', 'id': 1},\n       'id': 47,\n       'flag': 'poland',\n       'alpha2': 'PL'},\n      'userCount': 504,\n      'id': 1365,\n      'country': {},\n      'displayInverseHomeAwayTeams': False},\n     'userCount': 1022,\n     'nameCode': 'LPO',\n     'disabled': False,\n     'national': False,\n     'type': 0,\n     'id': 114709,\n     'country': {'alpha2': 'PL', 'name': 'Poland'},\n     'teamColors': {'primary': '#004b93',\n      'secondary': '#ffffff',\n      'text': '#ffffff'}},\n    'position': 'G',\n    'userCount': 1,\n    'id': 1562087,\n    'country': {'alpha2': 'PL', 'name': 'Poland'}}},\n  {'player': {'name': 'Mateusz Uzarek',\n    'slug': 'mateusz-uzarek',\n    'shortName': 'M. Uzarek',\n    'team': {'name': 'Pomezania Malbork',\n     'slug': 'pomezania-malbork',\n     'shortName': 'Malbork',\n     'gender': 'M',\n     'sport': {'name': 'Football', 'slug': 'football', 'id': 1},\n     'tournament': {'name': 'Club Friendly Games',\n      'slug': 'club-friendly-games',\n      'category': {'name': 'World',\n       'slug': 'world',\n       'sport': {'name': 'Football', 'slug': 'football', 'id': 1},\n       'id': 1468,\n       'flag': 'international'},\n      'uniqueTournament': {'name': 'Club Friendly Games',\n       'slug': 'club-friendly-games',\n       'primaryColorHex': '#25497d',\n       'secondaryColorHex': '#d38f1d',\n       'category': {'name': 'World',\n        'slug': 'world',\n        'sport': {'name': 'Football', 'slug': 'football', 'id': 1},\n        'id': 1468,\n        'flag': 'international'},\n       'userCount': 37936,\n       'id': 853,\n       'country': {},\n       'displayInverseHomeAwayTeams': False},\n      'priority': 0,\n      'id': 86},\n     'primaryUniqueTournament': {'name': 'IV. Liga - Pomorska',\n      'slug': 'iv-liga-pomorska',\n      'category': {'name': 'Poland Amateur',\n       'slug': 'poland-amateur',\n       'sport': {'name': 'Football', 'slug': 'football', 'id': 1},\n       'id': 1621,\n       'flag': 'poland',\n       'alpha2': 'PL'},\n      'userCount': 199,\n      'id': 17313,\n      'country': {},\n      'displayInverseHomeAwayTeams': False},\n     'userCount': 109,\n     'nameCode': 'PMA',\n     'disabled': False,\n     'national': False,\n     'type': 0,\n     'id': 237440,\n     'country': {'alpha2': 'PL', 'name': 'Poland'},\n     'teamColors': {'primary': '#52b030',\n      'secondary': '#52b030',\n      'text': '#ffffff'}},\n    'position': 'G',\n    'retired': False,\n    'userCount': 0,\n    'deceased': False,\n    'id': 1519202,\n    'country': {'alpha2': 'PL', 'name': 'Poland'},\n    'dateOfBirthTimestamp': 1109116800}},\n  {'player': {'name': 'Kamil Jakobczyk',\n    'firstName': 'Kamil Jakobczyk',\n    'slug': 'kamil-jakobczyk',\n    'shortName': 'K. Jakobczyk',\n    'team': {'name': 'Lech Poznań U19',\n     'slug': 'lech-poznan-u19',\n     'shortName': 'Lech U19',\n     'gender': 'M',\n     'sport': {'name': 'Football', 'slug': 'football', 'id': 1},\n     'tournament': {'name': 'U19 CLJ, West',\n      'slug': 'u19-clj-west',\n      'category': {'name': 'Poland',\n       'slug': 'poland',\n       'sport': {'name': 'Football', 'slug': 'football', 'id': 1},\n       'id': 47,\n       'flag': 'poland',\n       'alpha2': 'PL'},\n      'uniqueTournament': {'name': 'U19 CLJ',\n       'slug': 'u19-clj',\n       'category': {'name': 'Poland',\n        'slug': 'poland',\n        'sport': {'name': 'Football', 'slug': 'football', 'id': 1},\n        'id': 47,\n        'flag': 'poland',\n        'alpha2': 'PL'},\n       'userCount': 504,\n       'id': 1365,\n       'country': {},\n       'displayInverseHomeAwayTeams': False},\n      'priority': 0,\n      'id': 37201},\n     'primaryUniqueTournament': {'name': 'U19 CLJ',\n      'slug': 'u19-clj',\n      'category': {'name': 'Poland',\n       'slug': 'poland',\n       'sport': {'name': 'Football', 'slug': 'football', 'id': 1},\n       'id': 47,\n       'flag': 'poland',\n       'alpha2': 'PL'},\n      'userCount': 504,\n      'id': 1365,\n      'country': {},\n      'displayInverseHomeAwayTeams': False},\n     'userCount': 1022,\n     'nameCode': 'LPO',\n     'disabled': False,\n     'national': False,\n     'type': 0,\n     'id': 114709,\n     'country': {'alpha2': 'PL', 'name': 'Poland'},\n     'teamColors': {'primary': '#004b93',\n      'secondary': '#ffffff',\n      'text': '#ffffff'}},\n    'userCount': 2,\n    'id': 1548943,\n    'country': {'alpha2': 'PL', 'name': 'Poland'},\n    'dateOfBirthTimestamp': 1193097600}}],\n 'foreignPlayers': [{'player': {'name': 'Matsvei Bakhno',\n    'firstName': 'Matsvei Bakhno',\n    'slug': 'matsvei-bakhno',\n    'shortName': 'M. Bakhno',\n    'team': {'name': 'Lech Poznań U19',\n     'slug': 'lech-poznan-u19',\n     'shortName': 'Lech U19',\n     'gender': 'M',\n     'sport': {'name': 'Football', 'slug': 'football', 'id': 1},\n     'tournament': {'name': 'U19 CLJ, West',\n      'slug': 'u19-clj-west',\n      'category': {'name': 'Poland',\n       'slug': 'poland',\n       'sport': {'name': 'Football', 'slug': 'football', 'id': 1},\n       'id': 47,\n       'flag': 'poland',\n       'alpha2': 'PL'},\n      'uniqueTournament': {'name': 'U19 CLJ',\n       'slug': 'u19-clj',\n       'category': {'name': 'Poland',\n        'slug': 'poland',\n        'sport': {'name': 'Football', 'slug': 'football', 'id': 1},\n        'id': 47,\n        'flag': 'poland',\n        'alpha2': 'PL'},\n       'userCount': 504,\n       'id': 1365,\n       'country': {},\n       'displayInverseHomeAwayTeams': False},\n      'priority': 0,\n      'id': 37201},\n     'primaryUniqueTournament': {'name': 'U19 CLJ',\n      'slug': 'u19-clj',\n      'category': {'name': 'Poland',\n       'slug': 'poland',\n       'sport': {'name': 'Football', 'slug': 'football', 'id': 1},\n       'id': 47,\n       'flag': 'poland',\n       'alpha2': 'PL'},\n      'userCount': 504,\n      'id': 1365,\n      'country': {},\n      'displayInverseHomeAwayTeams': False},\n     'userCount': 1022,\n     'nameCode': 'LPO',\n     'disabled': False,\n     'national': False,\n     'type': 0,\n     'id': 114709,\n     'country': {'alpha2': 'PL', 'name': 'Poland'},\n     'teamColors': {'primary': '#004b93',\n      'secondary': '#ffffff',\n      'text': '#ffffff'}},\n    'position': 'D',\n    'userCount': 1,\n    'id': 1562114,\n    'country': {'alpha2': 'BY', 'name': 'Belarus'},\n    'dateOfBirthTimestamp': 1192320000}}],\n 'nationalPlayers': [],\n 'supportStaff': []}"
     },
     "execution_count": 49,
     "metadata": {},
     "output_type": "execute_result"
    }
   ],
   "source": [
    "players = response.json()\n",
    "players"
   ],
   "metadata": {
    "collapsed": false,
    "ExecuteTime": {
     "end_time": "2023-11-19T15:03:37.548836300Z",
     "start_time": "2023-11-19T15:03:37.522816100Z"
    }
   },
   "id": "d87d708b3990aa13"
  },
  {
   "cell_type": "code",
   "execution_count": 50,
   "outputs": [],
   "source": [
    "selected_keys = [\"id\", \"firstName\", \"slug\", \"shortName\", \"team\", \"position\", \"jerseyNumber\"]"
   ],
   "metadata": {
    "collapsed": false,
    "ExecuteTime": {
     "end_time": "2023-11-19T15:03:38.199709500Z",
     "start_time": "2023-11-19T15:03:38.189198900Z"
    }
   },
   "id": "91a0afff2d33e1cc"
  },
  {
   "cell_type": "code",
   "execution_count": 51,
   "outputs": [],
   "source": [
    "players_list = players.get(\"players\", [])"
   ],
   "metadata": {
    "collapsed": false,
    "ExecuteTime": {
     "end_time": "2023-11-19T15:03:38.773035700Z",
     "start_time": "2023-11-19T15:03:38.729018800Z"
    }
   },
   "id": "2f3462e7a5e0c93b"
  },
  {
   "cell_type": "code",
   "execution_count": 52,
   "outputs": [],
   "source": [
    "players_details_csv_file_path = \"C:\\\\Users\\\\Klaudia\\\\PycharmProjects\\\\TalentFinder\\\\data\\\\players_details_Lech_Poznan_U19_s2223.csv\""
   ],
   "metadata": {
    "collapsed": false,
    "ExecuteTime": {
     "end_time": "2023-11-19T15:03:39.811419100Z",
     "start_time": "2023-11-19T15:03:39.801909600Z"
    }
   },
   "id": "7120c1578ebe0ec4"
  },
  {
   "cell_type": "code",
   "execution_count": 53,
   "outputs": [
    {
     "name": "stdout",
     "output_type": "stream",
     "text": [
      "Dane zostały zapisane do pliku CSV: C:\\Users\\Klaudia\\PycharmProjects\\TalentFinder\\data\\players_Lech_Poznan_U19_s14\\players_details_Lech_Poznan_U19_s1415.csv\n"
     ]
    }
   ],
   "source": [
    "with open(players_details_csv_file_path, \"w\", newline=\"\") as csv_file:\n",
    "    csv_writer = csv.DictWriter(csv_file, fieldnames=selected_keys)\n",
    "    csv_writer.writeheader()\n",
    "\n",
    "    # Zapisywanie danych do pliku CSV\n",
    "    for player_data in players_list:\n",
    "        player = player_data.get(\"player\", {})\n",
    "        selected_data = {\n",
    "            \"id\": player.get(\"id\", \"\"),\n",
    "            \"firstName\": unidecode(player.get(\"firstName\", \"\")),\n",
    "            \"slug\": unidecode(player.get(\"slug\", \"\")),\n",
    "            \"shortName\": unidecode(player.get(\"shortName\", \"\")),\n",
    "            \"team\": unidecode(player.get(\"team\", {}).get(\"name\",\"\")),\n",
    "            \"position\": player.get(\"position\", \"\"),\n",
    "            \"jerseyNumber\": player.get(\"jerseyNumber\", \"\")\n",
    "        }\n",
    "        csv_writer.writerow(selected_data)\n",
    "\n",
    "print(f\"Dane zostały zapisane do pliku CSV: {players_details_csv_file_path}\")"
   ],
   "metadata": {
    "collapsed": false,
    "ExecuteTime": {
     "end_time": "2023-11-19T15:03:43.626999800Z",
     "start_time": "2023-11-19T15:03:43.610974800Z"
    }
   },
   "id": "9fb5b782d1533da2"
  }
 ],
 "metadata": {
  "kernelspec": {
   "display_name": "Python 3",
   "language": "python",
   "name": "python3"
  },
  "language_info": {
   "codemirror_mode": {
    "name": "ipython",
    "version": 2
   },
   "file_extension": ".py",
   "mimetype": "text/x-python",
   "name": "python",
   "nbconvert_exporter": "python",
   "pygments_lexer": "ipython2",
   "version": "2.7.6"
  }
 },
 "nbformat": 4,
 "nbformat_minor": 5
}
