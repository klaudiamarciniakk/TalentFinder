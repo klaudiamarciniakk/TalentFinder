{
 "cells": [
  {
   "cell_type": "code",
   "id": "dec82c4a4834e97f",
   "metadata": {
    "collapsed": true,
    "ExecuteTime": {
     "end_time": "2024-05-30T21:19:41.458953Z",
     "start_time": "2024-05-30T21:19:24.033444Z"
    }
   },
   "source": [
    "import pandas as pd\n",
    "import numpy as np\n",
    "from sklearn.model_selection import train_test_split\n",
    "from sklearn.ensemble import RandomForestClassifier\n",
    "from sklearn.preprocessing import LabelEncoder\n",
    "from sklearn.metrics import accuracy_score, precision_score, recall_score, f1_score, classification_report\n",
    "import matplotlib.pyplot as plt\n",
    "import gym\n",
    "import torch\n",
    "from stable_baselines3.common.callbacks import BaseCallback\n",
    "import os"
   ],
   "outputs": [],
   "execution_count": 1
  },
  {
   "metadata": {
    "ExecuteTime": {
     "end_time": "2024-05-30T21:19:43.015457Z",
     "start_time": "2024-05-30T21:19:42.998284Z"
    }
   },
   "cell_type": "code",
   "source": [
    "class GradientClippingCallback(BaseCallback):\n",
    "    def __init__(self, clip_value=0.5, verbose=0):\n",
    "        super(GradientClippingCallback, self).__init__(verbose)\n",
    "        self.clip_value = clip_value\n",
    "\n",
    "    def _on_step(self):\n",
    "        torch.nn.utils.clip_grad_norm_(self.model.policy.parameters(), self.clip_value)\n",
    "        return True"
   ],
   "id": "adb8396f27772728",
   "outputs": [],
   "execution_count": 2
  },
  {
   "metadata": {
    "ExecuteTime": {
     "end_time": "2024-05-30T21:19:43.577007Z",
     "start_time": "2024-05-30T21:19:43.569467Z"
    }
   },
   "cell_type": "code",
   "source": [
    "def evaluate_sensitivity(model, environment, feature_indices):\n",
    "    original_state = environment.reset()\n",
    "    print(\"Original state shape:\", original_state.shape)\n",
    "    sensitivities = []\n",
    "    for idx in feature_indices:\n",
    "        if idx >= original_state.shape[0]:\n",
    "            print(f\"Index {idx} is out of bounds for the state with shape {original_state.shape}\")\n",
    "            continue\n",
    "        perturbed_state = np.copy(original_state)\n",
    "        perturbation = 0.01 * (np.max(original_state) - np.min(original_state))\n",
    "        perturbed_state[idx] += perturbation\n",
    "        action, _states = model.predict(original_state, deterministic=True)\n",
    "        perturbed_action, _ = model.predict(perturbed_state, deterministic=True)\n",
    "        sensitivity = np.abs(action - perturbed_action)\n",
    "        sensitivities.append(sensitivity)\n",
    "    return sensitivities"
   ],
   "id": "9a8d9e59611ab5fc",
   "outputs": [],
   "execution_count": 3
  },
  {
   "metadata": {
    "ExecuteTime": {
     "end_time": "2024-05-30T21:19:44.371855Z",
     "start_time": "2024-05-30T21:19:44.355660Z"
    }
   },
   "cell_type": "code",
   "source": [
    "class TransferEnv(gym.Env):\n",
    "    metadata = {'render.modes': ['human']}\n",
    "\n",
    "    def __init__(self, data):\n",
    "        super(TransferEnv, self).__init__()\n",
    "        self.data = data\n",
    "        self.action_space = gym.spaces.Discrete(len(data['team'].unique()))\n",
    "        self.observation_space = gym.spaces.Box(low=0, high=1, shape=(len(data.columns),), dtype=np.float32)\n",
    "        self.state = self.reset()\n",
    "\n",
    "    def validate_observations(self, obs):\n",
    "        if np.isnan(obs).any():\n",
    "            print(\"NaN detected in observations\")\n",
    "            obs = np.nan_to_num(obs)\n",
    "        return obs\n",
    "\n",
    "    def reset(self):\n",
    "        self.current_step = 0\n",
    "        obs = self.data.iloc[self.current_step].values\n",
    "        return self.validate_observations(obs)\n",
    "\n",
    "    def step(self, action):\n",
    "        self.current_step += 1\n",
    "        done = self.current_step >= len(self.data)\n",
    "        reward = self.calculate_reward(action)\n",
    "        if not done:\n",
    "            next_state = self.data.iloc[self.current_step].values\n",
    "        else:\n",
    "            next_state = np.zeros_like(self.data.iloc[0].values)\n",
    "        return self.validate_observations(next_state), reward, done, {}\n",
    "\n",
    "    def calculate_reward(self, action):\n",
    "        if self.current_step == 0:\n",
    "            return 0\n",
    "        else:\n",
    "            previous_value = self.data.iloc[self.current_step - 1]['marketValue']\n",
    "            current_value = self.data.iloc[self.current_step]['marketValue']\n",
    "            reward = current_value - previous_value\n",
    "            return reward\n",
    "\n",
    "    def render(self, mode='human', close=False):\n",
    "        pass"
   ],
   "id": "abcc2228d9e0b123",
   "outputs": [],
   "execution_count": 4
  },
  {
   "metadata": {
    "ExecuteTime": {
     "end_time": "2024-05-30T21:19:45.386112Z",
     "start_time": "2024-05-30T21:19:45.366373Z"
    }
   },
   "cell_type": "code",
   "source": [
    "def convert_season(season):\n",
    "    start, end = season.split('/')\n",
    "    if int(start) >= 25:\n",
    "        start = '19' + start\n",
    "    else:\n",
    "        start = '20' + start\n",
    "    if int(end) >= 25:\n",
    "        end = '19' + end\n",
    "    else:\n",
    "        end = '20' + end\n",
    "    return f\"{start}/{end}\"\n",
    "\n",
    "def assign_season(date):\n",
    "    if date.month < 8:\n",
    "        return f\"{date.year-1}/{date.year}\"\n",
    "    else:\n",
    "        return f\"{date.year}/{date.year+1}\"\n",
    "\n",
    "def generate_value_season(df_player_values):\n",
    "    df_player_values['date'] = pd.to_datetime(df_player_values['date'], format='%d.%m.%Y', errors='coerce')\n",
    "    df_player_values['season'] = df_player_values['date'].apply(assign_season)\n",
    "    return df_player_values"
   ],
   "id": "6915cd3fcd9cbdf5",
   "outputs": [],
   "execution_count": 5
  },
  {
   "metadata": {
    "ExecuteTime": {
     "end_time": "2024-05-30T21:19:46.150657Z",
     "start_time": "2024-05-30T21:19:46.137056Z"
    }
   },
   "cell_type": "code",
   "source": [
    "def prepare_label_encoders(df, columns):\n",
    "    label_encoders = {}\n",
    "    for column in columns:\n",
    "        le = LabelEncoder()\n",
    "        df[column] = df[column].astype(str) \n",
    "        le.fit(df[column])\n",
    "        label_encoders[column] = le\n",
    "    return df, label_encoders"
   ],
   "id": "a5ce07502f7ba62d",
   "outputs": [],
   "execution_count": 6
  },
  {
   "metadata": {
    "ExecuteTime": {
     "end_time": "2024-05-30T21:31:17.717619Z",
     "start_time": "2024-05-30T21:31:17.712865Z"
    }
   },
   "cell_type": "code",
   "source": [
    "script_dir = os.path.abspath(os.getcwd())\n",
    "print(script_dir)\n",
    "project_dir = os.path.abspath(os.path.join(script_dir, os.pardir, os.pardir))\n",
    "print(project_dir)"
   ],
   "id": "f29f5aaf6e7ba8d6",
   "outputs": [
    {
     "name": "stdout",
     "output_type": "stream",
     "text": [
      "C:\\Users\\Klaudia\\PycharmProjects\\TalentFinder\\ml\\clasification\n",
      "C:\\Users\\Klaudia\\PycharmProjects\\TalentFinder\n"
     ]
    }
   ],
   "execution_count": 8
  },
  {
   "metadata": {
    "ExecuteTime": {
     "end_time": "2024-05-30T21:17:00.419599Z",
     "start_time": "2024-05-30T21:17:00.405556Z"
    }
   },
   "cell_type": "code",
   "source": [
    "def load_data():\n",
    "    dtype_dict = {\n",
    "        'column_3': str,\n",
    "        'column_4': str,\n",
    "        'column_5': str\n",
    "    }\n",
    "\n",
    "    df_player_seasons = pd.read_csv(os.path.join(project_dir, 'data', 'transfermarkt', 'player_seasons.csv'))\n",
    "    df_player_values = pd.read_csv(os.path.join(project_dir, 'data', 'transfermarkt','player_value.csv'))\n",
    "    df_player_flags = pd.read_csv(os.path.join(project_dir, 'data', 'flags','player_flags_FINAL.csv'), low_memory=False, dtype=dtype_dict)\n",
    "    df_player_transfers = pd.read_csv(os.path.join(project_dir, 'data', 'transfermarkt','transfers.csv'),dtype={'transferType': str})\n",
    "    df_player_players = pd.read_csv(os.path.join(project_dir, 'data', 'transfermarkt','players.csv'))\n",
    "    return df_player_seasons, df_player_values, df_player_flags, df_player_transfers, df_player_players"
   ],
   "id": "4f2c915118f25c1c",
   "outputs": [],
   "execution_count": 238
  },
  {
   "metadata": {
    "ExecuteTime": {
     "end_time": "2024-05-30T21:17:01.540567Z",
     "start_time": "2024-05-30T21:17:00.420601Z"
    }
   },
   "cell_type": "code",
   "source": [
    "df_player_seasons, df_player_values, df_player_flags, df_player_transfers, df_player_players = load_data()\n",
    "df_player_values = generate_value_season(df_player_values)\n",
    "df_player_transfers['season'] = df_player_transfers['season'].apply(convert_season)\n",
    "result = pd.merge(df_player_flags, df_player_players, on='id')\n",
    "result = pd.merge(result, df_player_values, on=['id', 'season'])\n",
    "result = pd.merge(result, df_player_transfers, on=['id', 'season'])"
   ],
   "id": "9396479f904b6906",
   "outputs": [],
   "execution_count": 239
  },
  {
   "metadata": {
    "ExecuteTime": {
     "end_time": "2024-05-30T21:17:01.556606Z",
     "start_time": "2024-05-30T21:17:01.542139Z"
    }
   },
   "cell_type": "code",
   "source": [
    "file = pd.read_csv('../../data/transfermarkt/elo_combined.csv').drop(columns=['elo_ranking_club']).rename(columns={\"club\": \"team\"})\n",
    "manual_elo_values = {\n",
    "    'Legia Warszawa': 2057.30,\n",
    "    'Rakow Czestochowa': 2056.73,\n",
    "    'Lech Poznan': 2028.27,\n",
    "    'Jagiellonia Bialystok': 2010.47,\n",
    "    'Pogon Szczecin': 1979.33,\n",
    "    'Slask Wroclaw': 1936.03,\n",
    "    'Piast Gliwice': 1934.58,\n",
    "    'Cracovia Krakow': 1908.82,\n",
    "    'Zaglebie Lubin': 1898.70,\n",
    "    'Gornik Zabrze': 1891.41,\n",
    "    'Korona Kielce': 1886.56,\n",
    "    'Radomiak Radom': 1852.95,\n",
    "    'Widzew Lodz': 1851.43,\n",
    "    'Ruch Chorzow': 1829.66,\n",
    "    'Warta Poznan': 1813.30,\n",
    "    'Puszcza Niepolomice': 1804.84,\n",
    "    'Stal Mielec': 1764.82,\n",
    "    'LKS Lodz': 1729.92,\n",
    "    'Arka Gdynia': 1874.70,\n",
    "    'Lechia Gdansk': 1836.87,\n",
    "    'Wisla Krakow': 1834.11,\n",
    "    'GKS Katowice': 1785.84,\n",
    "    'Wisla Plock': 1769.47,\n",
    "    'Motor Lublin': 1766.02,\n",
    "    'GKS Tychy': 1737.78,\n",
    "    'Miedz Legnica': 1734.90,\n",
    "    'LKS Nieciecza': 1722.74,\n",
    "    'Gornik Leczna': 1696.46,\n",
    "    'Odra Opole': 1691.37,\n",
    "    'Polonia Warszawa': 1652.76,\n",
    "    'Znicz Pruszkow': 1649.86,\n",
    "    'Resovia Rzeszow': 1646.33,\n",
    "    'Podbeskidzie Bielsko Biala': 1637.50,\n",
    "    'Chrobry Glogow': 1636.25,\n",
    "    'Stal Rzeszow': 1606.55,\n",
    "    'Zaglebie Sosnowiec': 1572.21,\n",
    "    'Pogon Siedlce': 1628.91,\n",
    "    'Kotwica Kolobrzeg': 1618.69,\n",
    "    'Stal Stalowa Wola': 1613.80,\n",
    "    'KKS 1925 Kalisz': 1587.47,\n",
    "    'Olimpia Grudziadz': 1578.32,\n",
    "    'Chojniczanka Chojnice': 1573.93,\n",
    "    'Hutnik Krakow': 1566.19,\n",
    "    'SKRA Czestochowa': 1565.43,\n",
    "    'Polonia Bytom': 1561.88,\n",
    "    'Wisla Pulawy': 1548.34,\n",
    "    'Olimpia Elblag': 1541.09,\n",
    "    'Stomil Olsztyn': 1511.45,\n",
    "    'GKS Jastrzebie': 1509.57,\n",
    "    'Lech Poznan II': 1505.25,\n",
    "    'Sandecja Nowy Sacz': 1501.80,\n",
    "    'Lks Lodz II': 1493.72,\n",
    "    'Zaglebie Lubin II': 1493.26,\n",
    "    'Radunia Stezyca': 1489.67\n",
    "}"
   ],
   "id": "11320fd3cf11a42",
   "outputs": [],
   "execution_count": 240
  },
  {
   "metadata": {
    "ExecuteTime": {
     "end_time": "2024-05-30T21:17:01.730144Z",
     "start_time": "2024-05-30T21:17:01.557607Z"
    }
   },
   "cell_type": "code",
   "source": [
    "for club, elo in manual_elo_values.items():\n",
    "    file.loc[file['team'] == club, 'elo'] = elo\n",
    "    \n",
    "result = pd.merge(result, file, on=['team'])\n",
    "\n",
    "columns_to_encode = [\n",
    "    'season', 'team',\n",
    "    'place_of_birth', 'birth_date', 'nationality', 'position', 'manager',\n",
    "    'club', 'fee', 'clubName1', 'clubName2', 'transferType'\n",
    "]\n",
    "\n",
    "result, label_encoders = prepare_label_encoders(result, columns_to_encode)"
   ],
   "id": "5a211a05329442c9",
   "outputs": [],
   "execution_count": 241
  },
  {
   "metadata": {
    "ExecuteTime": {
     "end_time": "2024-05-30T21:17:01.761687Z",
     "start_time": "2024-05-30T21:17:01.731147Z"
    }
   },
   "cell_type": "code",
   "source": [
    "result['previous_market_value'] = result.groupby('id')['marketValue'].shift(1)\n",
    "result['previous_market_value'] = result['previous_market_value'].fillna(result['marketValue'])\n",
    "target = result['marketValue']\n",
    "result['height'] = result['height'].fillna(1.80)\n",
    "features = result.drop(columns=['marketValue', 'slug', 'name', 'date_x', 'date_y', 'place_of_birth', 'manager', 'clubName1', 'clubName2', 'value', 'club'])"
   ],
   "id": "35538679614545d7",
   "outputs": [],
   "execution_count": 242
  },
  {
   "metadata": {
    "ExecuteTime": {
     "end_time": "2024-05-30T21:17:01.808681Z",
     "start_time": "2024-05-30T21:17:01.763477Z"
    }
   },
   "cell_type": "code",
   "source": [
    "unique_ids = result['id'].unique()\n",
    "train_ids, test_ids = train_test_split(unique_ids, test_size=0.25, random_state=42)\n",
    "\n",
    "train_data = result[result['id'].isin(train_ids)]\n",
    "test_data = result[result['id'].isin(test_ids)]"
   ],
   "id": "f35313aa36ccfa23",
   "outputs": [],
   "execution_count": 243
  },
  {
   "metadata": {
    "ExecuteTime": {
     "end_time": "2024-05-30T21:17:02.338148Z",
     "start_time": "2024-05-30T21:17:01.809681Z"
    }
   },
   "cell_type": "code",
   "source": [
    "X_train = train_data.drop(columns=['marketValue', 'slug', 'name', 'date_x', 'date_y', 'place_of_birth', 'manager', 'clubName1', 'clubName2', 'value', 'club'])\n",
    "y_train = train_data['marketValue']\n",
    "X_test = test_data.drop(columns=['marketValue', 'slug', 'name', 'date_x', 'date_y', 'place_of_birth', 'manager', 'clubName1', 'clubName2', 'value', 'club'])\n",
    "y_test = test_data['marketValue']\n",
    "\n",
    "X_train = X_train.apply(pd.to_numeric, errors='coerce')\n",
    "X_test = X_test.apply(pd.to_numeric, errors='coerce')\n",
    "\n",
    "X_train = X_train.dropna(axis=1, how='any')\n",
    "X_test = X_test.dropna(axis=1, how='any')"
   ],
   "id": "a7e907f2f3679e7b",
   "outputs": [],
   "execution_count": 244
  },
  {
   "metadata": {
    "ExecuteTime": {
     "end_time": "2024-05-30T21:17:02.353787Z",
     "start_time": "2024-05-30T21:17:02.339146Z"
    }
   },
   "cell_type": "code",
   "source": [
    "print(\"Typy danych X_train po konwersji:\")\n",
    "print(X_train.dtypes)\n",
    "print(\"Typy danych X_test po konwersji:\")\n",
    "print(X_test.dtypes)"
   ],
   "id": "e8ceb838f51bac10",
   "outputs": [
    {
     "name": "stdout",
     "output_type": "stream",
     "text": [
      "Typy danych X_train po konwersji:\n",
      "id                         int64\n",
      "height                   float64\n",
      "age                        int64\n",
      "elo                      float64\n",
      "previous_market_value    float64\n",
      "dtype: object\n",
      "Typy danych X_test po konwersji:\n",
      "id                         int64\n",
      "height                   float64\n",
      "age                        int64\n",
      "elo                      float64\n",
      "previous_market_value    float64\n",
      "dtype: object\n"
     ]
    }
   ],
   "execution_count": 245
  },
  {
   "metadata": {
    "jupyter": {
     "is_executing": true
    },
    "ExecuteTime": {
     "start_time": "2024-05-30T21:17:02.355947Z"
    }
   },
   "cell_type": "code",
   "source": [
    "model = RandomForestClassifier(n_estimators=100, random_state=42)\n",
    "model.fit(X_train, y_train)\n",
    "predictions = model.predict(X_test)"
   ],
   "id": "fbeb1a65aa90c098",
   "outputs": [],
   "execution_count": null
  },
  {
   "metadata": {
    "jupyter": {
     "is_executing": true
    }
   },
   "cell_type": "code",
   "source": [
    "accuracy = accuracy_score(y_test, predictions)\n",
    "precision = precision_score(y_test, predictions, average='weighted')\n",
    "recall = recall_score(y_test, predictions, average='weighted')\n",
    "f1 = f1_score(y_test, predictions, average='weighted')\n",
    "\n",
    "print(f'Accuracy: {accuracy}')\n",
    "print(f'Precision: {precision}')\n",
    "print(f'Recall: {recall}')\n",
    "print(f'F1 Score: {f1}')"
   ],
   "id": "9c958370c710cb2d",
   "outputs": [],
   "execution_count": null
  },
  {
   "metadata": {
    "jupyter": {
     "is_executing": true
    }
   },
   "cell_type": "code",
   "source": [
    "# Raport klasyfikacji\n",
    "classification_rep = classification_report(y_test, predictions)\n",
    "print(\"Classification Report:\")\n",
    "print(classification_rep)"
   ],
   "id": "72f36b9b8e3894df",
   "outputs": [],
   "execution_count": null
  },
  {
   "metadata": {
    "jupyter": {
     "is_executing": true
    }
   },
   "cell_type": "code",
   "source": [
    "data_without_id = result.drop(columns=['id'])\n",
    "data_description = data_without_id.describe()\n",
    "print(\"Statystyki opisowe dla zbioru danych bez kolumny 'id':\")\n",
    "print(data_description)"
   ],
   "id": "a819cb14b8fbb065",
   "outputs": [],
   "execution_count": null
  },
  {
   "metadata": {
    "jupyter": {
     "is_executing": true
    }
   },
   "cell_type": "code",
   "source": [
    "plt.figure(figsize=(10, 6))\n",
    "plt.scatter(y_test, predictions, alpha=0.3)\n",
    "plt.xlabel('Prawdziwe wartości')\n",
    "plt.ylabel('Przewidywane wartości')\n",
    "plt.title('Prawdziwe wartości vs. Przewidywane wartości')\n",
    "plt.plot([min(y_test), max(y_test)], [min(y_test), max(y_test)], color='red')\n",
    "plt.show()"
   ],
   "id": "81269ce7e8224162",
   "outputs": [],
   "execution_count": null
  },
  {
   "metadata": {
    "jupyter": {
     "is_executing": true
    }
   },
   "cell_type": "code",
   "source": [
    "def predict_best_transfer(potential_transfers, model, features, label_encoders):\n",
    "    columns_to_ignore = ['RED_CARD_PLAYER', 'YELLOW_CARD_PLAYER', 'VALUE_FLAG', 'ZERO_EXP', 'ALWAYS_ON_BENCH', 'PROGRESS_SINCE_NEW_TEAM', 'SAME_RESULTS_FOR_LONG_TIME']\n",
    "    \n",
    "    teams = features['team'].unique()\n",
    "    best_team = None\n",
    "    best_value = -np.inf\n",
    "\n",
    "    for team in teams:\n",
    "        potential_transfers['team'] = team\n",
    "        for column in features.columns:\n",
    "            if column not in potential_transfers.columns and column not in columns_to_ignore:\n",
    "                potential_transfers[column] = '0' \n",
    "\n",
    "        for column in potential_transfers.columns:\n",
    "            if column in columns_to_ignore:\n",
    "                potential_transfers.drop(columns=[column], inplace=True)\n",
    "            elif potential_transfers[column].isnull().all() or (potential_transfers[column] == '').all():\n",
    "                potential_transfers.drop(columns=[column], inplace=True)\n",
    "\n",
    "        for column in label_encoders:\n",
    "            if column in potential_transfers.columns:\n",
    "                le = label_encoders[column]\n",
    "                default_value = le.classes_[0]\n",
    "                potential_transfers[column] = potential_transfers[column].apply(\n",
    "                    lambda x: le.transform([x])[0] if x in le.classes_ else le.transform([default_value])[0]\n",
    "                )\n",
    "\n",
    "        potential_transfers = potential_transfers.apply(pd.to_numeric, errors='coerce')\n",
    "\n",
    "        potential_transfers = potential_transfers[features.columns]\n",
    "\n",
    "        predicted_value = model.predict(potential_transfers)[0]\n",
    "\n",
    "        if predicted_value > best_value:\n",
    "            best_value = predicted_value\n",
    "            best_team = team\n",
    "\n",
    "    return best_team, best_value\n"
   ],
   "id": "d94fb23b33a6c891",
   "outputs": [],
   "execution_count": null
  },
  {
   "metadata": {
    "jupyter": {
     "is_executing": true
    }
   },
   "cell_type": "code",
   "source": [
    "\n",
    "# Przykład użycia funkcji\n",
    "potential_transfers = pd.DataFrame({\n",
    "    'season': ['2023/2024'],\n",
    "    'team': ['Legia Warszawa'],\n",
    "    'place_of_birth': ['Warszawa'],\n",
    "    'birth_date': ['1995-01-01'],\n",
    "    'nationality': ['Poland'],\n",
    "    'position': ['Midfielder'],\n",
    "    'manager': ['John Doe'],\n",
    "    'club': ['Legia Warszawa'],\n",
    "    'fee': [0],\n",
    "    'clubName1': ['Legia Warszawa'],\n",
    "    'clubName2': ['Lech Poznan'],\n",
    "    'height': [1.80],\n",
    "    'previous_market_value': [10000],\n",
    "    'transferType': ['Bez odstepnego']\n",
    "})\n",
    "\n",
    "best_team, best_value = predict_best_transfer(potential_transfers, model, features, label_encoders)\n",
    "print(f\"Best Team: {best_team}, Predicted Market Value: {best_value}\")\n"
   ],
   "id": "e478760ecbbd4a60",
   "outputs": [],
   "execution_count": null
  },
  {
   "metadata": {
    "jupyter": {
     "is_executing": true
    }
   },
   "cell_type": "code",
   "source": [],
   "id": "47f61466502e1fb7",
   "outputs": [],
   "execution_count": null
  }
 ],
 "metadata": {
  "kernelspec": {
   "display_name": "Python 3",
   "language": "python",
   "name": "python3"
  },
  "language_info": {
   "codemirror_mode": {
    "name": "ipython",
    "version": 2
   },
   "file_extension": ".py",
   "mimetype": "text/x-python",
   "name": "python",
   "nbconvert_exporter": "python",
   "pygments_lexer": "ipython2",
   "version": "2.7.6"
  }
 },
 "nbformat": 4,
 "nbformat_minor": 5
}
